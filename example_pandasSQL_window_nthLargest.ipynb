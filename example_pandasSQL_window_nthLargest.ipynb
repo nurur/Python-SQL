{
 "cells": [
  {
   "cell_type": "markdown",
   "metadata": {},
   "source": [
    "# Pandas SQL "
   ]
  },
  {
   "cell_type": "markdown",
   "metadata": {},
   "source": [
    "Find the N-th Largest Value in a Group\n",
    "\n",
    "Find Row Values greater than the Average Row Value in a Group"
   ]
  },
  {
   "cell_type": "code",
   "execution_count": 1,
   "metadata": {},
   "outputs": [],
   "source": [
    "import numpy as np\n",
    "import pandas as pd\n",
    "import pandasql as ps"
   ]
  },
  {
   "cell_type": "markdown",
   "metadata": {},
   "source": [
    "### Data"
   ]
  },
  {
   "cell_type": "code",
   "execution_count": 2,
   "metadata": {},
   "outputs": [],
   "source": [
    "empID  = [x+1 for x in range(12)]\n",
    "empName= [\"nurur\",\"tom\",\"peter\",\"bo\",\"binbin\",\"jack\",\"sid\",\"don\",\"rahman\",\"kyle\",\"sohel\",\"robin\"]\n",
    "managerID = [-99,1,1,3,3,8,8,-99,6,10,10,-99]\n",
    "deptName = [\"AA\",\"AA\",\"AA\",\"AA\",\"AA\",\"IT\",\"IT\",\"IT\",\"IT\",\"HR\",\"HR\",\"BD\"]\n",
    "salary = [41000,29000,33000,21000,21000,33000,29000,24000,26500,19000,13700,39000]\n",
    "df = pd.DataFrame({\"EmpID\": empID, \"EmpName\":empName, \"ManagerID\": managerID, \n",
    "                   \"EmpDept\":deptName,\"EmpSalary\": salary})"
   ]
  },
  {
   "cell_type": "code",
   "execution_count": 3,
   "metadata": {},
   "outputs": [
    {
     "name": "stdout",
     "output_type": "stream",
     "text": [
      "   EmpID EmpName  ManagerID EmpDept  EmpSalary\n",
      "0      1   nurur        -99      AA      41000\n",
      "1      2     tom          1      AA      29000\n"
     ]
    }
   ],
   "source": [
    "print( df.head(2) )"
   ]
  },
  {
   "cell_type": "code",
   "execution_count": 4,
   "metadata": {},
   "outputs": [
    {
     "name": "stdout",
     "output_type": "stream",
     "text": [
      "   EmpID EmpName  ManagerID EmpDept  EmpSalary\n",
      "0      1   nurur        -99      AA      41000\n",
      "1     12   robin        -99      BD      39000\n"
     ]
    }
   ],
   "source": [
    "a = ps.sqldf(\"\"\"SELECT * FROM df ORDER BY EmpSalary DESC LIMIT 2\"\"\")\n",
    "print(a)"
   ]
  },
  {
   "cell_type": "markdown",
   "metadata": {},
   "source": [
    "### Example : The N-th Largest Value in a Group\n",
    "#### 1. Highest Salary by Dept"
   ]
  },
  {
   "cell_type": "code",
   "execution_count": 5,
   "metadata": {},
   "outputs": [
    {
     "name": "stdout",
     "output_type": "stream",
     "text": [
      "  EmpDept  max(EmpSalary)\n",
      "0      AA           41000\n",
      "1      BD           39000\n",
      "2      HR           19000\n",
      "3      IT           33000\n"
     ]
    }
   ],
   "source": [
    "a=ps.sqldf(\"\"\"SELECT EmpDept, max(EmpSalary) FROM df GROUP BY EmpDept\"\"\")\n",
    "print(a)"
   ]
  },
  {
   "cell_type": "markdown",
   "metadata": {},
   "source": [
    "#### 2 : Second Highest Salary by Dept: Wrong"
   ]
  },
  {
   "cell_type": "code",
   "execution_count": 6,
   "metadata": {},
   "outputs": [
    {
     "name": "stdout",
     "output_type": "stream",
     "text": [
      "   EmpID EmpName EmpDept  max(EmpSalary)\n",
      "0      2     tom      AA           29000\n",
      "1     11   sohel      HR           13700\n",
      "2      7     sid      IT           29000\n"
     ]
    }
   ],
   "source": [
    "q = \"\"\"\n",
    "    SELECT \n",
    "    EmpID, EmpName, EmpDept, \n",
    "    max(EmpSalary) FROM df \n",
    "    WHERE EmpSalary NOT IN (SELECT max(EmpSalary) FROM df GROUP BY EmpDept) \n",
    "    GROUP BY EmpDept\n",
    "    \"\"\"\n",
    "a = ps.sqldf(q)\n",
    "print(a)"
   ]
  },
  {
   "cell_type": "markdown",
   "metadata": {},
   "source": [
    "Second Highest Salary by Dept: Correct"
   ]
  },
  {
   "cell_type": "code",
   "execution_count": 7,
   "metadata": {},
   "outputs": [
    {
     "name": "stdout",
     "output_type": "stream",
     "text": [
      "   EmpID EmpName EmpDept  max(EmpSalary)\n",
      "0      3   peter      AA           33000\n",
      "1     11   sohel      HR           13700\n",
      "2      7     sid      IT           29000\n"
     ]
    }
   ],
   "source": [
    "q = \"\"\"\n",
    "    SELECT EmpID, EmpName, EmpDept, \n",
    "    max(EmpSalary) FROM df \n",
    "    WHERE (EmpDept,EmpSalary) NOT IN (SELECT EmpDept, max(EmpSalary) FROM df GROUP BY EmpDept) \n",
    "    GROUP BY EmpDept\"\"\"\n",
    "a = ps.sqldf(q)\n",
    "print(a)"
   ]
  },
  {
   "cell_type": "markdown",
   "metadata": {},
   "source": [
    "#### 3 : N-th Highest Salary by Dept: General"
   ]
  },
  {
   "cell_type": "code",
   "execution_count": 8,
   "metadata": {},
   "outputs": [
    {
     "name": "stdout",
     "output_type": "stream",
     "text": [
      "    EmpID EmpName  ManagerID EmpDept  EmpSalary  SalaryRank\n",
      "0       1   nurur        -99      AA      41000           1\n",
      "1       3   peter          1      AA      33000           2\n",
      "2       2     tom          1      AA      29000           3\n",
      "3       4      bo          3      AA      21000           4\n",
      "4       5  binbin          3      AA      21000           4\n",
      "5      12   robin        -99      BD      39000           1\n",
      "6      10    kyle         10      HR      19000           1\n",
      "7      11   sohel         10      HR      13700           2\n",
      "8       6    jack          8      IT      33000           1\n",
      "9       7     sid          8      IT      29000           2\n",
      "10      9  rahman          6      IT      26500           3\n",
      "11      8     don        -99      IT      24000           4\n"
     ]
    }
   ],
   "source": [
    "q = \"\"\"\n",
    "    SELECT * FROM \n",
    "    (SELECT *, dense_rank() OVER (PARTITION BY EmpDept ORDER BY EmpSalary DESC) as SalaryRank \n",
    "    FROM df) as f \n",
    "    \"\"\"\n",
    "a = ps.sqldf(q)\n",
    "print(a)"
   ]
  },
  {
   "cell_type": "code",
   "execution_count": 9,
   "metadata": {},
   "outputs": [
    {
     "name": "stdout",
     "output_type": "stream",
     "text": [
      "   EmpID EmpName  ManagerID EmpDept  EmpSalary  SalaryRank\n",
      "0      1   nurur        -99      AA      41000           1\n",
      "1     12   robin        -99      BD      39000           1\n",
      "2     10    kyle         10      HR      19000           1\n",
      "3      6    jack          8      IT      33000           1\n"
     ]
    }
   ],
   "source": [
    "q = \"\"\"\n",
    "    SELECT * FROM \n",
    "    (SELECT *, dense_rank() OVER (PARTITION BY EmpDept ORDER BY EmpSalary DESC) as SalaryRank \n",
    "    FROM df) as f \n",
    "    WHERE SalaryRank == 1\n",
    "    \"\"\"\n",
    "a = ps.sqldf(q)\n",
    "print(a)"
   ]
  },
  {
   "cell_type": "code",
   "execution_count": 10,
   "metadata": {},
   "outputs": [
    {
     "name": "stdout",
     "output_type": "stream",
     "text": [
      "   EmpID EmpName  ManagerID EmpDept  EmpSalary  SalaryRank\n",
      "0      3   peter          1      AA      33000           2\n",
      "1     11   sohel         10      HR      13700           2\n",
      "2      7     sid          8      IT      29000           2\n"
     ]
    }
   ],
   "source": [
    "q = \"\"\"\n",
    "    SELECT * FROM \n",
    "    (SELECT *, dense_rank() OVER (PARTITION BY EmpDept ORDER BY EmpSalary DESC) as SalaryRank \n",
    "    FROM df) as f \n",
    "    WHERE SalaryRank == 2\n",
    "    \"\"\"\n",
    "a = ps.sqldf(q)\n",
    "print(a)"
   ]
  },
  {
   "cell_type": "code",
   "execution_count": 11,
   "metadata": {},
   "outputs": [
    {
     "name": "stdout",
     "output_type": "stream",
     "text": [
      "   EmpID EmpName  ManagerID EmpDept  EmpSalary  SalaryRank\n",
      "0      2     tom          1      AA      29000           3\n",
      "1      9  rahman          6      IT      26500           3\n"
     ]
    }
   ],
   "source": [
    "q = \"\"\"\n",
    "    SELECT * FROM \n",
    "    (SELECT *, dense_rank() OVER (PARTITION BY EmpDept ORDER BY EmpSalary DESC) as SalaryRank \n",
    "    FROM df) as f \n",
    "    WHERE SalaryRank == 3\n",
    "    \"\"\"\n",
    "a = ps.sqldf(q)\n",
    "print(a)"
   ]
  },
  {
   "cell_type": "code",
   "execution_count": 12,
   "metadata": {},
   "outputs": [
    {
     "name": "stdout",
     "output_type": "stream",
     "text": [
      "    EmpID EmpName  ManagerID EmpDept  EmpSalary\n",
      "0       1   nurur        -99      AA      41000\n",
      "11     12   robin        -99      BD      39000\n",
      "2       3   peter          1      AA      33000\n",
      "5       6    jack          8      IT      33000\n",
      "1       2     tom          1      AA      29000\n"
     ]
    }
   ],
   "source": [
    "a = df.nlargest(5, columns='EmpSalary')\n",
    "print(a)"
   ]
  },
  {
   "cell_type": "code",
   "execution_count": 13,
   "metadata": {},
   "outputs": [
    {
     "name": "stdout",
     "output_type": "stream",
     "text": [
      "   EmpID EmpName  ManagerID EmpDept  EmpSalary\n",
      "5      6    jack          8      IT      33000\n",
      "1      2     tom          1      AA      29000\n"
     ]
    }
   ],
   "source": [
    "a = df.nlargest(5, columns='EmpSalary').tail(2)\n",
    "print(a)"
   ]
  },
  {
   "cell_type": "markdown",
   "metadata": {},
   "source": [
    "### Example : Salary greater than Average Salary by Dept "
   ]
  },
  {
   "cell_type": "code",
   "execution_count": 14,
   "metadata": {},
   "outputs": [
    {
     "name": "stdout",
     "output_type": "stream",
     "text": [
      "    EmpID EmpName  ManagerID EmpDept  EmpSalary  AvgSalary\n",
      "0       1   nurur        -99      AA      41000    29000.0\n",
      "1       2     tom          1      AA      29000    29000.0\n",
      "2       3   peter          1      AA      33000    29000.0\n",
      "3       4      bo          3      AA      21000    29000.0\n",
      "4       5  binbin          3      AA      21000    29000.0\n",
      "5      12   robin        -99      BD      39000    39000.0\n",
      "6      10    kyle         10      HR      19000    16350.0\n",
      "7      11   sohel         10      HR      13700    16350.0\n",
      "8       6    jack          8      IT      33000    28125.0\n",
      "9       7     sid          8      IT      29000    28125.0\n",
      "10      8     don        -99      IT      24000    28125.0\n",
      "11      9  rahman          6      IT      26500    28125.0\n"
     ]
    }
   ],
   "source": [
    "q = \"\"\"\n",
    "    SELECT *, avg(EmpSalary) OVER (PARTITION BY EmpDept) as AvgSalary FROM df\n",
    "    \"\"\"\n",
    "a = ps.sqldf(q)\n",
    "print(a)"
   ]
  },
  {
   "cell_type": "code",
   "execution_count": 15,
   "metadata": {},
   "outputs": [
    {
     "name": "stdout",
     "output_type": "stream",
     "text": [
      "   EmpID EmpName  ManagerID EmpDept  EmpSalary  AvgSalary\n",
      "0      1   nurur        -99      AA      41000    29000.0\n",
      "1      3   peter          1      AA      33000    29000.0\n",
      "2     10    kyle         10      HR      19000    16350.0\n",
      "3      6    jack          8      IT      33000    28125.0\n",
      "4      7     sid          8      IT      29000    28125.0\n"
     ]
    }
   ],
   "source": [
    "q = \"\"\"\n",
    "    SELECT * FROM \n",
    "    (SELECT *, avg(EmpSalary) OVER (PARTITION BY EmpDept) as AvgSalary\n",
    "    FROM df) as f \n",
    "    WHERE EmpSalary > AvgSalary\n",
    "    \"\"\"\n",
    "a = ps.sqldf(q)\n",
    "print(a)"
   ]
  }
 ],
 "metadata": {
  "kernelspec": {
   "display_name": "Python 3",
   "language": "python",
   "name": "python3"
  },
  "language_info": {
   "codemirror_mode": {
    "name": "ipython",
    "version": 3
   },
   "file_extension": ".py",
   "mimetype": "text/x-python",
   "name": "python",
   "nbconvert_exporter": "python",
   "pygments_lexer": "ipython3",
   "version": "3.9.0"
  }
 },
 "nbformat": 4,
 "nbformat_minor": 4
}
