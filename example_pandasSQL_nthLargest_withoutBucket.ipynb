{
 "cells": [
  {
   "cell_type": "markdown",
   "metadata": {},
   "source": [
    "# Pandas SQL : N-th Largest Without Bucket"
   ]
  },
  {
   "cell_type": "markdown",
   "metadata": {},
   "source": [
    "Case 1 : There are no Duplicate Records\n",
    "\n",
    "Case 2 : There are Duplicate Records"
   ]
  },
  {
   "cell_type": "code",
   "execution_count": 1,
   "metadata": {},
   "outputs": [],
   "source": [
    "import numpy as np\n",
    "import pandas as pd\n",
    "import pandasql as ps"
   ]
  },
  {
   "cell_type": "markdown",
   "metadata": {},
   "source": [
    "## Data"
   ]
  },
  {
   "cell_type": "code",
   "execution_count": 2,
   "metadata": {},
   "outputs": [],
   "source": [
    "df_salary = pd.DataFrame(\n",
    "    {\"id\":[1,2,3,4,5,6,7,8,9,10],\n",
    "     \"name\":[\"Jone Doe\",\"David Boe\",\"Alice Jones\",\"Bobby Louis\",\"Lisa Romero\",\n",
    "             \"Anne Marry\",\"Lisa Romero\",\"Adam Smith\",\"Nery Garcia\",\"Joe Capella\"],\n",
    "     \"salUnique\":[4765,8100,5635,3315,6000,7495,6985,6370,5150,3870],\n",
    "     \"salDupFirst\":[3315,8100,6000,3315,4625,7495,6985,6370,5150,3870],\n",
    "     \"salDupFirstMid\":[3315,8100,6000,3315,6000,7495,6985,6370,5150,3870],\n",
    "     \"salDupFirstMidLast\":[3315,8100,6000,3315,6000,8100,6985,6370,5150,3870]\n",
    "    }\n",
    ")"
   ]
  },
  {
   "cell_type": "code",
   "execution_count": 3,
   "metadata": {},
   "outputs": [
    {
     "name": "stdout",
     "output_type": "stream",
     "text": [
      "   id         name  salUnique  salDupFirst  salDupFirstMid  salDupFirstMidLast\n",
      "0   1     Jone Doe       4765         3315            3315                3315\n",
      "1   2    David Boe       8100         8100            8100                8100\n",
      "2   3  Alice Jones       5635         6000            6000                6000\n"
     ]
    }
   ],
   "source": [
    "print(df_salary.head(3))"
   ]
  },
  {
   "cell_type": "markdown",
   "metadata": {},
   "source": [
    "-------------------------------------------------------------------------"
   ]
  },
  {
   "cell_type": "markdown",
   "metadata": {},
   "source": [
    "## Without Window Function"
   ]
  },
  {
   "cell_type": "markdown",
   "metadata": {},
   "source": [
    "### Case 1\n",
    "#### When There are no Duplicate Salaries"
   ]
  },
  {
   "cell_type": "code",
   "execution_count": 4,
   "metadata": {},
   "outputs": [
    {
     "name": "stdout",
     "output_type": "stream",
     "text": [
      "   id         name  salary\n",
      "0   4  Bobby Louis    3315\n",
      "1  10  Joe Capella    3870\n",
      "2   1     Jone Doe    4765\n",
      "3   9  Nery Garcia    5150\n",
      "4   3  Alice Jones    5635\n",
      "5   5  Lisa Romero    6000\n",
      "6   8   Adam Smith    6370\n",
      "7   7  Lisa Romero    6985\n",
      "8   6   Anne Marry    7495\n",
      "9   2    David Boe    8100\n"
     ]
    }
   ],
   "source": [
    "q = \"\"\"\n",
    "    SELECT \n",
    "    id, name, salUnique as salary\n",
    "    FROM df_salary\n",
    "    ORDER BY salUnique\n",
    "    \"\"\"\n",
    "a = ps.sqldf(q)\n",
    "print(a)"
   ]
  },
  {
   "cell_type": "markdown",
   "metadata": {},
   "source": [
    "### Case 2\n",
    "#### When There are Duplicate Salaries"
   ]
  },
  {
   "cell_type": "markdown",
   "metadata": {},
   "source": [
    "Case 1: Find Distinct Salaries in Ascending Order"
   ]
  },
  {
   "cell_type": "code",
   "execution_count": 5,
   "metadata": {},
   "outputs": [
    {
     "name": "stdout",
     "output_type": "stream",
     "text": [
      "   salDupFirstMid\n",
      "0            3315\n",
      "1            3870\n",
      "2            5150\n",
      "3            6000\n"
     ]
    }
   ],
   "source": [
    "q = \"\"\"\n",
    "    SELECT \n",
    "    DISTINCT salDupFirstMid \n",
    "    FROM df_salary\n",
    "    ORDER BY salDupFirst\n",
    "    LIMIT 4\n",
    "    \"\"\"\n",
    "a = ps.sqldf(q)\n",
    "print(a)"
   ]
  },
  {
   "cell_type": "markdown",
   "metadata": {},
   "source": [
    "Case 2: Find Maximum of (Distinct Salaries in Ascending Order)"
   ]
  },
  {
   "cell_type": "code",
   "execution_count": 6,
   "metadata": {},
   "outputs": [
    {
     "name": "stdout",
     "output_type": "stream",
     "text": [
      "   minSal\n",
      "0    6000\n"
     ]
    }
   ],
   "source": [
    "q = \"\"\"\n",
    "    SELECT \n",
    "    max(salDupFirstMid) as minSal\n",
    "    FROM\n",
    "    (SELECT DISTINCT salDupFirstMid\n",
    "    FROM df_salary\n",
    "    ORDER BY salDupFirstMid \n",
    "    LIMIT 4)\n",
    "    \"\"\"\n",
    "a = ps.sqldf(q)\n",
    "print(a)"
   ]
  },
  {
   "cell_type": "markdown",
   "metadata": {},
   "source": [
    "Case 3: Find All Columns of the Maximum of (Distinct Salaries in Ascending Order)"
   ]
  },
  {
   "cell_type": "code",
   "execution_count": 7,
   "metadata": {},
   "outputs": [
    {
     "name": "stdout",
     "output_type": "stream",
     "text": [
      "   id         name  salUnique  salDupFirst  salDupFirstMid  salDupFirstMidLast\n",
      "0   3  Alice Jones       5635         6000            6000                6000\n",
      "1   5  Lisa Romero       6000         4625            6000                6000\n"
     ]
    }
   ],
   "source": [
    "q = \"\"\"\n",
    "    SELECT \n",
    "    * FROM df_salary \n",
    "    WHERE salDupFirstMid = \n",
    "    (SELECT max(salDupFirstMid) as minSal\n",
    "    FROM\n",
    "    (SELECT DISTINCT salDupFirstMid\n",
    "    FROM df_salary\n",
    "    ORDER BY salDupFirstMid\n",
    "    LIMIT 4))\n",
    "    \"\"\"\n",
    "a = ps.sqldf(q)\n",
    "print(a)"
   ]
  },
  {
   "cell_type": "markdown",
   "metadata": {},
   "source": [
    "----------------------------------------------------------------------------"
   ]
  },
  {
   "cell_type": "markdown",
   "metadata": {},
   "source": [
    "## With Window Function"
   ]
  },
  {
   "cell_type": "markdown",
   "metadata": {},
   "source": [
    "### Case 1\n",
    "#### When There are no Duplicate Salaries"
   ]
  },
  {
   "cell_type": "code",
   "execution_count": 8,
   "metadata": {},
   "outputs": [
    {
     "name": "stdout",
     "output_type": "stream",
     "text": [
      "   id         name  salary  SRank  DRank\n",
      "0   4  Bobby Louis    3315      1      1\n",
      "1  10  Joe Capella    3870      2      2\n",
      "2   1     Jone Doe    4765      3      3\n",
      "3   9  Nery Garcia    5150      4      4\n",
      "4   3  Alice Jones    5635      5      5\n",
      "5   5  Lisa Romero    6000      6      6\n",
      "6   8   Adam Smith    6370      7      7\n",
      "7   7  Lisa Romero    6985      8      8\n",
      "8   6   Anne Marry    7495      9      9\n",
      "9   2    David Boe    8100     10     10\n"
     ]
    }
   ],
   "source": [
    "q = \"\"\"\n",
    "    WITH sr AS\n",
    "    (SELECT \n",
    "    id, name, salUnique as salary,\n",
    "    rank() OVER (ORDER BY salUnique) as SRank\n",
    "    FROM df_salary),\n",
    "    dr AS \n",
    "    (SELECT \n",
    "    id, salUnique,\n",
    "    dense_rank() OVER (ORDER BY salUnique) as DRank\n",
    "    FROM df_salary)\n",
    "    SELECT \n",
    "    sr.id, sr.name, sr.salary, sr.SRank, dr.DRank\n",
    "    FROM sr, dr \n",
    "    ON sr.id = dr.id\n",
    "    \"\"\"\n",
    "a = ps.sqldf(q)\n",
    "print(a)"
   ]
  },
  {
   "cell_type": "markdown",
   "metadata": {},
   "source": [
    "### Case 2\n",
    "#### When There are Duplicate Salaries"
   ]
  },
  {
   "cell_type": "code",
   "execution_count": 9,
   "metadata": {},
   "outputs": [
    {
     "name": "stdout",
     "output_type": "stream",
     "text": [
      "   id         name  salary  SRank  DRank\n",
      "0   1     Jone Doe    3315      1      1\n",
      "1   4  Bobby Louis    3315      1      1\n",
      "2  10  Joe Capella    3870      3      2\n",
      "3   5  Lisa Romero    4625      4      3\n",
      "4   9  Nery Garcia    5150      5      4\n",
      "5   3  Alice Jones    6000      6      5\n",
      "6   8   Adam Smith    6370      7      6\n",
      "7   7  Lisa Romero    6985      8      7\n",
      "8   6   Anne Marry    7495      9      8\n",
      "9   2    David Boe    8100     10      9\n"
     ]
    }
   ],
   "source": [
    "\"\"\"Case 2a\"\"\"\n",
    "q = \"\"\"\n",
    "    WITH sr AS\n",
    "    (SELECT id, name, salDupFirst as salary,\n",
    "    rank() OVER (ORDER BY salDupFirst) as SRank\n",
    "    FROM df_salary),\n",
    "    dr AS \n",
    "    (SELECT id,\n",
    "    dense_rank() OVER (ORDER BY salDupFirst) as DRank\n",
    "    FROM df_salary)\n",
    "    SELECT sr.id, sr.name, salary, sr.SRank, dr.DRank\n",
    "    FROM sr, dr \n",
    "    ON sr.id = dr.id\n",
    "    \"\"\"\n",
    "a = ps.sqldf(q)\n",
    "print(a)"
   ]
  },
  {
   "cell_type": "code",
   "execution_count": 10,
   "metadata": {},
   "outputs": [
    {
     "name": "stdout",
     "output_type": "stream",
     "text": [
      "   id         name  salary  SRank  DRank\n",
      "0   1     Jone Doe    3315      1      1\n",
      "1   4  Bobby Louis    3315      1      1\n",
      "2  10  Joe Capella    3870      3      2\n",
      "3   9  Nery Garcia    5150      4      3\n",
      "4   3  Alice Jones    6000      5      4\n",
      "5   5  Lisa Romero    6000      5      4\n",
      "6   8   Adam Smith    6370      7      5\n",
      "7   7  Lisa Romero    6985      8      6\n",
      "8   6   Anne Marry    7495      9      7\n",
      "9   2    David Boe    8100     10      8\n"
     ]
    }
   ],
   "source": [
    "\"\"\"Case 2b\"\"\"\n",
    "q = \"\"\"\n",
    "    WITH sr AS\n",
    "    (SELECT id, name, salDupFirstMid as salary,\n",
    "    rank() OVER (ORDER BY salDupFirstMid) as SRank\n",
    "    FROM df_salary),\n",
    "    dr AS \n",
    "    (SELECT id,\n",
    "    dense_rank() OVER (ORDER BY salDupFirstMid) as DRank\n",
    "    FROM df_salary)\n",
    "    SELECT sr.id, sr.name, sr.salary, sr.SRank, dr.DRank\n",
    "    FROM sr, dr \n",
    "    ON sr.id = dr.id\n",
    "    \"\"\"\n",
    "a = ps.sqldf(q)\n",
    "print(a)"
   ]
  },
  {
   "cell_type": "code",
   "execution_count": 11,
   "metadata": {},
   "outputs": [
    {
     "name": "stdout",
     "output_type": "stream",
     "text": [
      "   id         name  salary  SRank  DRank\n",
      "0   1     Jone Doe    3315      1      1\n",
      "1   4  Bobby Louis    3315      1      1\n",
      "2  10  Joe Capella    3870      3      2\n",
      "3   9  Nery Garcia    5150      4      3\n",
      "4   3  Alice Jones    6000      5      4\n",
      "5   5  Lisa Romero    6000      5      4\n",
      "6   8   Adam Smith    6370      7      5\n",
      "7   7  Lisa Romero    6985      8      6\n",
      "8   2    David Boe    8100      9      7\n",
      "9   6   Anne Marry    8100      9      7\n"
     ]
    }
   ],
   "source": [
    "\"\"\"Case 2c\"\"\"\n",
    "q = \"\"\"\n",
    "    WITH sr AS\n",
    "    (SELECT id, name, salDupFirstMidLast as salary,\n",
    "    rank() OVER (ORDER BY salDupFirstMidLast) as SRank\n",
    "    FROM df_salary),\n",
    "    dr AS \n",
    "    (SELECT id,\n",
    "    dense_rank() OVER (ORDER BY salDupFirstMidLast) as DRank\n",
    "    FROM df_salary)\n",
    "    SELECT sr.id, sr.name, sr.salary, sr.SRank, dr.DRank\n",
    "    FROM sr, dr \n",
    "    ON sr.id = dr.id\n",
    "    \"\"\"\n",
    "a = ps.sqldf(q)\n",
    "print(a)"
   ]
  },
  {
   "cell_type": "code",
   "execution_count": 12,
   "metadata": {},
   "outputs": [
    {
     "name": "stdout",
     "output_type": "stream",
     "text": [
      "   salary  SRank\n",
      "0    3315      1\n",
      "1    3870      2\n",
      "2    5150      3\n",
      "3    6000      4\n",
      "4    6370      5\n",
      "5    6985      6\n",
      "6    8100      7\n"
     ]
    }
   ],
   "source": [
    "q = \"\"\"\n",
    "    SELECT *, \n",
    "    rank() OVER (ORDER BY salary) as SRank\n",
    "    FROM( SELECT DISTINCT salDupFirstMidLast as salary FROM df_salary ) AS f\n",
    "    \"\"\"\n",
    "a = ps.sqldf(q)\n",
    "print(a)"
   ]
  },
  {
   "cell_type": "code",
   "execution_count": 13,
   "metadata": {},
   "outputs": [
    {
     "name": "stdout",
     "output_type": "stream",
     "text": [
      "   salary\n",
      "0    6000\n"
     ]
    }
   ],
   "source": [
    "q = \"\"\"\n",
    "    SELECT salary \n",
    "    FROM (SELECT *, \n",
    "    rank() OVER (ORDER BY salary) as SRank\n",
    "    FROM( SELECT DISTINCT salDupFirstMidLast as salary FROM df_salary) AS f1) AS f2\n",
    "    WHERE SRank=4\n",
    "    \"\"\"\n",
    "a = ps.sqldf(q)\n",
    "print(a)"
   ]
  },
  {
   "cell_type": "code",
   "execution_count": 14,
   "metadata": {},
   "outputs": [
    {
     "name": "stdout",
     "output_type": "stream",
     "text": [
      "   id         name  salUnique  salDupFirst  salDupFirstMid  salDupFirstMidLast\n",
      "0   3  Alice Jones       5635         6000            6000                6000\n",
      "1   5  Lisa Romero       6000         4625            6000                6000\n"
     ]
    }
   ],
   "source": [
    "q = \"\"\"\n",
    "    SELECT * FROM df_salary\n",
    "    WHERE salDupFirstMidLast =\n",
    "    (SELECT salary \n",
    "    FROM (SELECT *, \n",
    "    rank() OVER (ORDER BY salary) as SRank\n",
    "    FROM( SELECT DISTINCT salDupFirstMidLast as salary FROM df_salary) AS f1) AS f2\n",
    "    WHERE SRank=4)\n",
    "    \"\"\"\n",
    "a = ps.sqldf(q)\n",
    "print(a)"
   ]
  },
  {
   "cell_type": "markdown",
   "metadata": {},
   "source": [
    "### Practice"
   ]
  },
  {
   "cell_type": "code",
   "execution_count": 15,
   "metadata": {},
   "outputs": [],
   "source": [
    "data ={\n",
    "   \"dept\" : ['A','A','A','B','B','B','C','C'],\n",
    "    \"salary\" :[1500,1700,1000,5000,5000,3100,4000,4500]\n",
    "}\n",
    "df = pd.DataFrame(data)"
   ]
  },
  {
   "cell_type": "code",
   "execution_count": 16,
   "metadata": {},
   "outputs": [
    {
     "name": "stdout",
     "output_type": "stream",
     "text": [
      "  dept  salary\n",
      "0    B    5000\n",
      "1    B    5000\n",
      "2    C    4500\n",
      "3    C    4000\n",
      "4    B    3100\n",
      "5    A    1700\n",
      "6    A    1500\n",
      "7    A    1000\n"
     ]
    }
   ],
   "source": [
    "q = \"\"\"\n",
    "    SELECT \n",
    "    dept,  \n",
    "    salary\n",
    "    FROM df\n",
    "    ORDER BY salary DESC\n",
    "    \"\"\"\n",
    "a = ps.sqldf(q)\n",
    "print(a)"
   ]
  },
  {
   "cell_type": "markdown",
   "metadata": {},
   "source": [
    "Max salary in the table"
   ]
  },
  {
   "cell_type": "code",
   "execution_count": 17,
   "metadata": {},
   "outputs": [
    {
     "name": "stdout",
     "output_type": "stream",
     "text": [
      "  dept  salary\n",
      "0    B    5000\n"
     ]
    }
   ],
   "source": [
    "q = \"\"\"\n",
    "    SELECT \n",
    "    dept,  \n",
    "    salary\n",
    "    FROM df\n",
    "    ORDER BY salary DESC\n",
    "    LIMIT 1 OFFSET 0\n",
    "    \"\"\"\n",
    "a = ps.sqldf(q)\n",
    "print(a)"
   ]
  },
  {
   "cell_type": "code",
   "execution_count": 18,
   "metadata": {},
   "outputs": [
    {
     "name": "stdout",
     "output_type": "stream",
     "text": [
      "  dept  max_salary   avg_salary\n",
      "0    A        1700  1400.000000\n",
      "1    B        5000  4366.666667\n",
      "2    C        4500  4250.000000\n"
     ]
    }
   ],
   "source": [
    "q = \"\"\"\n",
    "    SELECT \n",
    "    dept,  \n",
    "    MAX(salary) as max_salary,\n",
    "    AVG(salary) as avg_salary\n",
    "    FROM df\n",
    "    GROUP BY dept\n",
    "    \"\"\"\n",
    "a = ps.sqldf(q)\n",
    "print(a)"
   ]
  },
  {
   "cell_type": "code",
   "execution_count": 19,
   "metadata": {},
   "outputs": [
    {
     "name": "stdout",
     "output_type": "stream",
     "text": [
      "  dept  salary\n",
      "0    A    1500\n",
      "1    B    5000\n",
      "2    C    4000\n"
     ]
    }
   ],
   "source": [
    "q = \"\"\"\n",
    "    SELECT \n",
    "    dept,  \n",
    "    salary\n",
    "    FROM df\n",
    "    GROUP BY dept\n",
    "    \"\"\"\n",
    "a = ps.sqldf(q)\n",
    "print(a)"
   ]
  },
  {
   "cell_type": "code",
   "execution_count": 20,
   "metadata": {},
   "outputs": [
    {
     "name": "stdout",
     "output_type": "stream",
     "text": [
      "  dept  salary  salary_rank\n",
      "0    A    1700            1\n",
      "1    A    1500            2\n",
      "2    A    1000            3\n",
      "3    B    5000            1\n",
      "4    B    5000            1\n",
      "5    B    3100            2\n",
      "6    C    4500            1\n",
      "7    C    4000            2\n"
     ]
    }
   ],
   "source": [
    "q = \"\"\"\n",
    "    SELECT \n",
    "    dept,  \n",
    "    salary,\n",
    "    dense_rank() OVER (PARTITION BY dept ORDER BY salary DESC) AS salary_rank\n",
    "    FROM df\n",
    "    \"\"\"\n",
    "a = ps.sqldf(q)\n",
    "print(a)"
   ]
  },
  {
   "cell_type": "code",
   "execution_count": 21,
   "metadata": {},
   "outputs": [
    {
     "name": "stdout",
     "output_type": "stream",
     "text": [
      "  dept  salary  salary_rank\n",
      "0    A    1700            1\n",
      "1    B    5000            1\n",
      "2    B    5000            1\n",
      "3    C    4500            1\n"
     ]
    }
   ],
   "source": [
    "q = \"\"\"\n",
    "    WITH f1 AS\n",
    "    (SELECT \n",
    "    dept,  \n",
    "    salary,\n",
    "    dense_rank() OVER (PARTITION BY dept ORDER BY salary DESC) AS salary_rank\n",
    "    FROM df)\n",
    "    SELECT * FROM f1\n",
    "    WHERE salary_rank=1\n",
    "    \"\"\"\n",
    "a = ps.sqldf(q)\n",
    "print(a)"
   ]
  }
 ],
 "metadata": {
  "kernelspec": {
   "display_name": "Python 3",
   "language": "python",
   "name": "python3"
  },
  "language_info": {
   "codemirror_mode": {
    "name": "ipython",
    "version": 3
   },
   "file_extension": ".py",
   "mimetype": "text/x-python",
   "name": "python",
   "nbconvert_exporter": "python",
   "pygments_lexer": "ipython3",
   "version": "3.9.13"
  }
 },
 "nbformat": 4,
 "nbformat_minor": 4
}
