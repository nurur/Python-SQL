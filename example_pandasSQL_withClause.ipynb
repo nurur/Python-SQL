{
 "cells": [
  {
   "cell_type": "markdown",
   "metadata": {},
   "source": [
    "# Pandas SQL : With Clause"
   ]
  },
  {
   "cell_type": "markdown",
   "metadata": {},
   "source": [
    "SQL Common Table Expression (CTE) \n",
    "\n",
    "SQL With Caluse"
   ]
  },
  {
   "cell_type": "code",
   "execution_count": 1,
   "metadata": {},
   "outputs": [],
   "source": [
    "import numpy as np\n",
    "import pandas as pd\n",
    "import pandasql as ps"
   ]
  },
  {
   "cell_type": "code",
   "execution_count": 2,
   "metadata": {},
   "outputs": [],
   "source": [
    "df_id  = pd.DataFrame(data=[x+1 for x in range(15)], columns=['EmpID'] )\n",
    "df_name= pd.DataFrame(data=[\"nurur\",\"tom\",\"peter\",\"bo\",\"binbin\",\n",
    "                            \"jack\",\"sid\",\"don\",\"rahman\",\n",
    "                            \"nick\",\"adam\",\"ross\",\n",
    "                            \"kyle\",\"sohel\",\n",
    "                            \"robin\"], columns=['EmpName'])\n",
    "df_manager = pd.DataFrame(data=[\"xxxx\",\"nurur\",\"nurur\",\"peter\",\"peter\",\n",
    "                                \"don\",\"don\",\"nurur\",\"yyyy\",\n",
    "                                \"ross\",\"ross\",\"ross\",\n",
    "                                \"zzz\",\"kyle\",\n",
    "                                \"carole\"], columns=['EmpManager'])"
   ]
  },
  {
   "cell_type": "code",
   "execution_count": 3,
   "metadata": {},
   "outputs": [],
   "source": [
    "df_dept = pd.DataFrame(data=[\"AA\",\"AA\",\"AA\",\"AA\",\"AA\",\"IT\",\"IT\",\n",
    "                             \"IT\",\"IT\",\"SALE\",\"SALE\",\"SALE\",\"HR\",\n",
    "                             \"HR\",\"BD\"], columns=['EmpDept'])"
   ]
  },
  {
   "cell_type": "code",
   "execution_count": 4,
   "metadata": {},
   "outputs": [],
   "source": [
    "df_salary = pd.DataFrame(data=[41000,29000,33000,21000,21000,\n",
    "                             33000,29000,24000,26500,\n",
    "                             51000,51000,43000,19000,13700,\n",
    "                             39000], columns=['EmpSalary'])"
   ]
  },
  {
   "cell_type": "code",
   "execution_count": 5,
   "metadata": {},
   "outputs": [],
   "source": [
    "df = pd.concat([df_id,df_name,df_manager,df_dept,df_salary], axis=1)"
   ]
  },
  {
   "cell_type": "code",
   "execution_count": 6,
   "metadata": {},
   "outputs": [
    {
     "name": "stdout",
     "output_type": "stream",
     "text": [
      "    EmpID EmpName EmpManager EmpDept  EmpSalary\n",
      "9      10    nick       ross    SALE      51000\n",
      "10     11    adam       ross    SALE      51000\n"
     ]
    }
   ],
   "source": [
    "a = df.sort_values(\"EmpSalary\", ascending=False).head(2)\n",
    "print(a)"
   ]
  },
  {
   "cell_type": "code",
   "execution_count": 7,
   "metadata": {},
   "outputs": [
    {
     "name": "stdout",
     "output_type": "stream",
     "text": [
      "   EmpID EmpName EmpManager EmpDept  EmpSalary\n",
      "0     10    nick       ross    SALE      51000\n",
      "1     11    adam       ross    SALE      51000\n"
     ]
    }
   ],
   "source": [
    "a = ps.sqldf(\"\"\"SELECT * FROM df ORDER BY EmpSalary DESC LIMIT 2\"\"\")\n",
    "print(a)"
   ]
  },
  {
   "cell_type": "markdown",
   "metadata": {},
   "source": [
    "#### with clause"
   ]
  },
  {
   "cell_type": "code",
   "execution_count": 8,
   "metadata": {},
   "outputs": [
    {
     "name": "stdout",
     "output_type": "stream",
     "text": [
      "   EmpID EmpName EmpName  EmpSalary     AvgSalary\n",
      "0     10    nick    nick      51000  48333.333333\n",
      "1      1   nurur   nurur      41000  29000.000000\n",
      "2     15   robin   robin      39000  39000.000000\n",
      "3      6    jack    jack      33000  28125.000000\n",
      "4     13    kyle    kyle      19000  16350.000000\n"
     ]
    }
   ],
   "source": [
    "q = \"\"\"\n",
    "    WITH fmax AS\n",
    "    (SELECT EmpID,EmpName,EmpDept,EmpSalary\n",
    "    FROM df \n",
    "    GROUP BY EmpDept\n",
    "    ORDER BY EmpSalary DESC),\n",
    "    fmin AS\n",
    "    (SELECT EmpID,EmpName,EmpDept,AVG(EmpSalary) as AvgSalary\n",
    "    FROM df \n",
    "    GROUP BY EmpDept)  \n",
    "    SELECT fmax.EmpID, fmax.EmpName, fmin.EmpName, fmax.EmpSalary, fmin.AvgSalary \n",
    "    FROM fmax, fmin\n",
    "    WHERE fmax.EmpDept=fmin.EmpDept\n",
    "    \"\"\"\n",
    "a = ps.sqldf(q)\n",
    "print(a)"
   ]
  }
 ],
 "metadata": {
  "kernelspec": {
   "display_name": "Python 3",
   "language": "python",
   "name": "python3"
  },
  "language_info": {
   "codemirror_mode": {
    "name": "ipython",
    "version": 3
   },
   "file_extension": ".py",
   "mimetype": "text/x-python",
   "name": "python",
   "nbconvert_exporter": "python",
   "pygments_lexer": "ipython3",
   "version": "3.9.2"
  }
 },
 "nbformat": 4,
 "nbformat_minor": 4
}
