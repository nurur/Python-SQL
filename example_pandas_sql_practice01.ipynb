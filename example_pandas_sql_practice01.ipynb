{
 "cells": [
  {
   "cell_type": "markdown",
   "metadata": {},
   "source": [
    "# Pandas & SQL : Practice"
   ]
  },
  {
   "cell_type": "code",
   "execution_count": 1,
   "metadata": {},
   "outputs": [],
   "source": [
    "import numpy as np\n",
    "import pandas as pd"
   ]
  },
  {
   "cell_type": "code",
   "execution_count": 2,
   "metadata": {},
   "outputs": [],
   "source": [
    "import pandasql as ps"
   ]
  },
  {
   "cell_type": "markdown",
   "metadata": {},
   "source": [
    "### Example : Find the 5th Highest Salary "
   ]
  },
  {
   "cell_type": "code",
   "execution_count": 3,
   "metadata": {},
   "outputs": [
    {
     "data": {
      "text/html": [
       "<div>\n",
       "<style scoped>\n",
       "    .dataframe tbody tr th:only-of-type {\n",
       "        vertical-align: middle;\n",
       "    }\n",
       "\n",
       "    .dataframe tbody tr th {\n",
       "        vertical-align: top;\n",
       "    }\n",
       "\n",
       "    .dataframe thead th {\n",
       "        text-align: right;\n",
       "    }\n",
       "</style>\n",
       "<table border=\"1\" class=\"dataframe\">\n",
       "  <thead>\n",
       "    <tr style=\"text-align: right;\">\n",
       "      <th></th>\n",
       "      <th>id</th>\n",
       "      <th>name</th>\n",
       "      <th>salary</th>\n",
       "    </tr>\n",
       "  </thead>\n",
       "  <tbody>\n",
       "    <tr>\n",
       "      <th>0</th>\n",
       "      <td>1</td>\n",
       "      <td>Jone Doe</td>\n",
       "      <td>3315</td>\n",
       "    </tr>\n",
       "    <tr>\n",
       "      <th>1</th>\n",
       "      <td>2</td>\n",
       "      <td>David Boe</td>\n",
       "      <td>7790</td>\n",
       "    </tr>\n",
       "    <tr>\n",
       "      <th>2</th>\n",
       "      <td>3</td>\n",
       "      <td>Alice Jones</td>\n",
       "      <td>6000</td>\n",
       "    </tr>\n",
       "    <tr>\n",
       "      <th>3</th>\n",
       "      <td>4</td>\n",
       "      <td>Bobby Louis</td>\n",
       "      <td>3315</td>\n",
       "    </tr>\n",
       "    <tr>\n",
       "      <th>4</th>\n",
       "      <td>5</td>\n",
       "      <td>Lisa Romero</td>\n",
       "      <td>6000</td>\n",
       "    </tr>\n",
       "    <tr>\n",
       "      <th>5</th>\n",
       "      <td>6</td>\n",
       "      <td>Anne Marry</td>\n",
       "      <td>8100</td>\n",
       "    </tr>\n",
       "    <tr>\n",
       "      <th>6</th>\n",
       "      <td>7</td>\n",
       "      <td>Kisa Salero</td>\n",
       "      <td>6985</td>\n",
       "    </tr>\n",
       "    <tr>\n",
       "      <th>7</th>\n",
       "      <td>8</td>\n",
       "      <td>Adam Smith</td>\n",
       "      <td>7450</td>\n",
       "    </tr>\n",
       "  </tbody>\n",
       "</table>\n",
       "</div>"
      ],
      "text/plain": [
       "   id         name  salary\n",
       "0   1     Jone Doe    3315\n",
       "1   2    David Boe    7790\n",
       "2   3  Alice Jones    6000\n",
       "3   4  Bobby Louis    3315\n",
       "4   5  Lisa Romero    6000\n",
       "5   6   Anne Marry    8100\n",
       "6   7  Kisa Salero    6985\n",
       "7   8   Adam Smith    7450"
      ]
     },
     "execution_count": 3,
     "metadata": {},
     "output_type": "execute_result"
    }
   ],
   "source": [
    "eid  = [1,2,3,4,5,6,7,8]\n",
    "name = [\"Jone Doe\",\"David Boe\",\"Alice Jones\",\"Bobby Louis\",\"Lisa Romero\",\"Anne Marry\",\"Kisa Salero\",\"Adam Smith\"]\n",
    "salary = [3315,7790,6000,3315,6000,8100,6985,7450]\n",
    "df = pd.DataFrame({\"id\":eid, \"name\":name, \"salary\":salary})\n",
    "df"
   ]
  },
  {
   "cell_type": "code",
   "execution_count": 4,
   "metadata": {},
   "outputs": [
    {
     "name": "stdout",
     "output_type": "stream",
     "text": [
      "   salary\n",
      "0    8100\n",
      "1    7790\n",
      "2    7450\n",
      "3    6985\n",
      "4    6000\n",
      "5    3315\n"
     ]
    }
   ],
   "source": [
    "q = \"\"\"\n",
    "    SELECT \n",
    "    DISTINCT(salary)\n",
    "    FROM df\n",
    "    ORDER BY salary DESC;\n",
    "    \"\"\"\n",
    "a = ps.sqldf(q)\n",
    "print(a)"
   ]
  },
  {
   "cell_type": "code",
   "execution_count": 5,
   "metadata": {},
   "outputs": [
    {
     "name": "stdout",
     "output_type": "stream",
     "text": [
      "   salary\n",
      "0    6000\n"
     ]
    }
   ],
   "source": [
    "q = \"\"\"\n",
    "    SELECT \n",
    "    DISTINCT(salary)\n",
    "    FROM df\n",
    "    ORDER BY salary DESC \n",
    "    LIMIT 1 OFFSET 4;\n",
    "    \"\"\"\n",
    "a = ps.sqldf(q)\n",
    "print(a)"
   ]
  },
  {
   "cell_type": "code",
   "execution_count": 6,
   "metadata": {},
   "outputs": [
    {
     "name": "stdout",
     "output_type": "stream",
     "text": [
      "   id         name  salary\n",
      "0   3  Alice Jones    6000\n"
     ]
    }
   ],
   "source": [
    "q = \"\"\"\n",
    "    SELECT \n",
    "    * \n",
    "    FROM df\n",
    "    ORDER BY salary DESC\n",
    "    LIMIT 1 OFFSET 4;\n",
    "    \"\"\"\n",
    "a = ps.sqldf(q)\n",
    "print(a)"
   ]
  },
  {
   "cell_type": "code",
   "execution_count": 7,
   "metadata": {},
   "outputs": [
    {
     "name": "stdout",
     "output_type": "stream",
     "text": [
      "   salary  SRank  DRank\n",
      "0    3315      1      1\n",
      "1    6000      2      2\n",
      "2    6985      3      3\n",
      "3    7450      4      4\n",
      "4    7790      5      5\n",
      "5    8100      6      6\n"
     ]
    }
   ],
   "source": [
    "q = \"\"\"\n",
    "    SELECT *, \n",
    "    rank() OVER (ORDER BY salary) as SRank,\n",
    "    dense_rank() OVER (ORDER BY salary) as DRank\n",
    "    FROM (SELECT DISTINCT salary FROM df) AS f;\n",
    "    \"\"\"\n",
    "a = ps.sqldf(q)\n",
    "print(a)"
   ]
  },
  {
   "cell_type": "code",
   "execution_count": 8,
   "metadata": {},
   "outputs": [
    {
     "name": "stdout",
     "output_type": "stream",
     "text": [
      "   id         name  salary\n",
      "0   3  Alice Jones    6000\n",
      "1   5  Lisa Romero    6000\n"
     ]
    }
   ],
   "source": [
    "q = \"\"\"\n",
    "    SELECT \n",
    "    * \n",
    "    FROM df \n",
    "    WHERE salary = (\n",
    "    SELECT DISTINCT(salary) FROM df ORDER BY salary DESC LIMIT 1 OFFSET 4);\n",
    "    \"\"\"\n",
    "a = ps.sqldf(q)\n",
    "print(a)"
   ]
  },
  {
   "cell_type": "code",
   "execution_count": 12,
   "metadata": {},
   "outputs": [
    {
     "name": "stdout",
     "output_type": "stream",
     "text": [
      "   salary\n",
      "0    8100\n",
      "1    7790\n",
      "2    7450\n",
      "3    6985\n",
      "4    6000\n",
      "5    3315\n"
     ]
    }
   ],
   "source": [
    "q = \"\"\"\n",
    "    SELECT \n",
    "    DISTINCT(salary)\n",
    "    FROM df\n",
    "    ORDER BY salary DESC;\n",
    "    \"\"\"\n",
    "a = ps.sqldf(q)\n",
    "print(a)"
   ]
  },
  {
   "cell_type": "markdown",
   "metadata": {},
   "source": [
    "### Example"
   ]
  },
  {
   "cell_type": "code",
   "execution_count": 12,
   "metadata": {},
   "outputs": [],
   "source": [
    "eid  = [1,2,3,4,5,6,7,8]\n",
    "name = [\"Jone Doe\",\"David Boe\",\"Alice Jones\",\"Bobby Louis\",\"Lisa Romero\",\"Anne Marry\",\"Kisa Salero\",\"Adam Smith\"]\n",
    "salary = [3315,7790,6000,3315,6000,8100,6985,7450]\n",
    "\n",
    "df_users = pd.DataFrame(\n",
    "    {\"id\":eid, \n",
    "     \"name\":name, \n",
    "     \"salary\":salary\n",
    "    }\n",
    ")"
   ]
  },
  {
   "cell_type": "code",
   "execution_count": 13,
   "metadata": {},
   "outputs": [],
   "source": [
    "x1 = [1,2,3,4,5,6,7,8,9,10,11,12,13,14,15]\n",
    "x2 = [1,2,3,4,2,1,3,4,1,3,4,3,1,4,1]\n",
    "x3 = [1,1,2,2,2,1,2,3,4,1,2,2,1,3,2]\n",
    "x4 = [\"2015-08-02\",\"2015-08-03\",\"2015-08-02\",\"2015-08-04\",\"2015-08-03\",\n",
    "      \"2015-08-02\",\"2015-08-04\",\"2015-08-03\",\"2015-08-03\",\"2015-08-02\",\n",
    "      \"2015-08-04\",\"2015-08-02\",\"2015-08-02\",\"2015-08-03\",\"2015-08-03\"]\n",
    "\n",
    "df_training = pd.DataFrame(\n",
    "    {\"user_training_id\":x1,\n",
    "     \"user_id\":x2, \n",
    "     \"training_id\":x3, \n",
    "     \"training_date\":x4\n",
    "    }\n",
    ")"
   ]
  },
  {
   "cell_type": "code",
   "execution_count": 14,
   "metadata": {},
   "outputs": [
    {
     "name": "stdout",
     "output_type": "stream",
     "text": [
      "    user_training_id  user_id  training_id training_date\n",
      "0                  1        1            1    2015-08-02\n",
      "1                  2        2            1    2015-08-03\n",
      "2                  3        3            2    2015-08-02\n",
      "3                  4        4            2    2015-08-04\n",
      "4                  5        2            2    2015-08-03\n",
      "5                  6        1            1    2015-08-02\n",
      "6                  7        3            2    2015-08-04\n",
      "7                  8        4            3    2015-08-03\n",
      "8                  9        1            4    2015-08-03\n",
      "9                 10        3            1    2015-08-02\n",
      "10                11        4            2    2015-08-04\n",
      "11                12        3            2    2015-08-02\n",
      "12                13        1            1    2015-08-02\n",
      "13                14        4            3    2015-08-03\n",
      "14                15        1            2    2015-08-03\n"
     ]
    }
   ],
   "source": [
    "print(df_training)"
   ]
  },
  {
   "cell_type": "code",
   "execution_count": 15,
   "metadata": {},
   "outputs": [
    {
     "name": "stdout",
     "output_type": "stream",
     "text": [
      "          name  user_id training_date\n",
      "0     Jone Doe        1    2015-08-02\n",
      "1  Alice Jones        3    2015-08-02\n",
      "2     Jone Doe        1    2015-08-02\n",
      "3  Alice Jones        3    2015-08-02\n",
      "4  Alice Jones        3    2015-08-02\n",
      "5     Jone Doe        1    2015-08-02\n"
     ]
    }
   ],
   "source": [
    "q = \"\"\"\n",
    "    SELECT \n",
    "    user.name, trn.user_id, trn.training_date \n",
    "    FROM df_training trn\n",
    "    JOIN df_users as user\n",
    "    WHERE trn.user_id=user.id \n",
    "    AND training_date=\"2015-08-02\"\n",
    "    \"\"\"\n",
    "a = ps.sqldf(q)\n",
    "print(a)"
   ]
  },
  {
   "cell_type": "code",
   "execution_count": 16,
   "metadata": {},
   "outputs": [
    {
     "name": "stdout",
     "output_type": "stream",
     "text": [
      "          name  training_id training_date  count\n",
      "0  Bobby Louis            2    2015-08-04      2\n",
      "1  Bobby Louis            3    2015-08-03      2\n",
      "2  Alice Jones            2    2015-08-02      2\n",
      "3     Jone Doe            1    2015-08-02      3\n"
     ]
    }
   ],
   "source": [
    "q = \"\"\"\n",
    "    SELECT user.name, trn.training_id, trn.training_date,\n",
    "    COUNT(trn.training_id) as count\n",
    "    FROM df_training trn\n",
    "    JOIN df_users as user\n",
    "    WHERE trn.user_id = user.id \n",
    "    GROUP BY user.name, trn.user_id, trn.training_id, trn.training_date \n",
    "    HAVING COUNT(trn.training_id) > 1\n",
    "    ORDER BY trn.training_date DESC\n",
    "    \"\"\"\n",
    "a = ps.sqldf(q)\n",
    "print(a)"
   ]
  },
  {
   "cell_type": "code",
   "execution_count": 17,
   "metadata": {},
   "outputs": [
    {
     "name": "stdout",
     "output_type": "stream",
     "text": [
      "  training_date  user_id  count\n",
      "0    2015-08-02        1      3\n",
      "1    2015-08-02        3      3\n",
      "2    2015-08-03        1      2\n",
      "3    2015-08-03        2      2\n",
      "4    2015-08-03        4      2\n",
      "5    2015-08-04        4      2\n"
     ]
    }
   ],
   "source": [
    "q = \"\"\"\n",
    "    SELECT * FROM \n",
    "    (SELECT training_date, user_id, count(*) as count\n",
    "    FROM df_training\n",
    "    GROUP BY training_date,user_id\n",
    "    ORDER BY training_date,user_id) AS f1\n",
    "    WHERE count > 1\n",
    "    \"\"\"\n",
    "a = ps.sqldf(q)\n",
    "print(a)"
   ]
  },
  {
   "cell_type": "code",
   "execution_count": 18,
   "metadata": {},
   "outputs": [
    {
     "name": "stdout",
     "output_type": "stream",
     "text": [
      "  training_date  user_id  count\n",
      "0    2015-08-02        1      3\n",
      "1    2015-08-02        3      3\n",
      "2    2015-08-03        1      2\n",
      "3    2015-08-03        2      2\n",
      "4    2015-08-03        4      2\n",
      "5    2015-08-04        4      2\n"
     ]
    }
   ],
   "source": [
    "q = \"\"\"\n",
    "    SELECT training_date, user_id, count(*) as count\n",
    "    FROM df_training\n",
    "    GROUP BY training_date,user_id\n",
    "    HAVING count(*) > 1\n",
    "    ORDER BY training_date,user_id\n",
    "    \"\"\"\n",
    "a = ps.sqldf(q)\n",
    "print(a)"
   ]
  },
  {
   "cell_type": "code",
   "execution_count": 19,
   "metadata": {},
   "outputs": [
    {
     "name": "stdout",
     "output_type": "stream",
     "text": [
      "  training_date  user_id  count\n",
      "0    2015-08-04        4      2\n",
      "1    2015-08-03        1      2\n",
      "2    2015-08-03        2      2\n",
      "3    2015-08-03        4      2\n",
      "4    2015-08-02        1      3\n",
      "5    2015-08-02        3      3\n"
     ]
    }
   ],
   "source": [
    "q = \"\"\"\n",
    "    WITH f1 AS\n",
    "    (SELECT training_date, user_id, count(*) as count\n",
    "    FROM df_training\n",
    "    GROUP BY training_date,user_id\n",
    "    ORDER BY training_date DESC,user_id)\n",
    "    SELECT * FROM f1 WHERE count > 1\n",
    "    \"\"\"\n",
    "a = ps.sqldf(q)\n",
    "print(a)"
   ]
  },
  {
   "cell_type": "markdown",
   "metadata": {},
   "source": [
    "#### Example "
   ]
  },
  {
   "cell_type": "code",
   "execution_count": 20,
   "metadata": {},
   "outputs": [
    {
     "name": "stdout",
     "output_type": "stream",
     "text": [
      "   id         name  salary indicator\n",
      "0   1     Jone Doe    3315       Odd\n",
      "1   3  Alice Jones    6000       Odd\n",
      "2   5  Lisa Romero    6000       Odd\n",
      "3   7  Kisa Salero    6985       Odd\n"
     ]
    }
   ],
   "source": [
    "q = \"\"\"\n",
    "    SELECT * FROM \n",
    "    (SELECT *, \n",
    "    CASE \n",
    "    WHEN id%2=1 THEN 'Odd'\n",
    "    WHEN id%2=0 THEN 'Evn'\n",
    "    END \n",
    "    AS indicator\n",
    "    FROM df) AS f1\n",
    "    WHERE indicator='Odd'\n",
    "    \"\"\"\n",
    "a = ps.sqldf(q)\n",
    "print(a)"
   ]
  },
  {
   "cell_type": "markdown",
   "metadata": {},
   "source": [
    "#### Example : group_concat"
   ]
  },
  {
   "cell_type": "code",
   "execution_count": 21,
   "metadata": {},
   "outputs": [],
   "source": [
    "# changing the max_rows value \n",
    "#pd.set_option(\"display.max_rows\", 5) \n",
    "# changing the max_colwidth value \n",
    "pd.set_option(\"display.max_colwidth\", 200) "
   ]
  },
  {
   "cell_type": "code",
   "execution_count": 22,
   "metadata": {},
   "outputs": [
    {
     "name": "stdout",
     "output_type": "stream",
     "text": [
      "                                                                                 concatName\n",
      "0  Jone Doe;David Boe;Alice Jones;Bobby Louis;Lisa Romero;Anne Marry;Kisa Salero;Adam Smith\n"
     ]
    }
   ],
   "source": [
    "q = \"\"\"\n",
    "    SELECT group_concat(name,\";\") as concatName\n",
    "    FROM df \n",
    "    \"\"\"\n",
    "a = ps.sqldf(q)\n",
    "print(a)"
   ]
  },
  {
   "cell_type": "markdown",
   "metadata": {},
   "source": [
    "#### Example "
   ]
  },
  {
   "cell_type": "code",
   "execution_count": 23,
   "metadata": {},
   "outputs": [
    {
     "name": "stdout",
     "output_type": "stream",
     "text": [
      "   id         name  salary\n",
      "0   5  Lisa Romero    6000\n",
      "1   7  Kisa Salero    6985\n",
      "2   1     Jone Doe    3315\n",
      "3   2    David Boe    7790\n",
      "4   4  Bobby Louis    3315\n",
      "5   6   Anne Marry    8100\n",
      "6   3  Alice Jones    6000\n",
      "7   8   Adam Smith    7450\n"
     ]
    }
   ],
   "source": [
    "q = \"\"\"\n",
    "    SELECT id, name, salary\n",
    "    FROM df\n",
    "    ORDER BY 2 DESC\n",
    "    \"\"\"\n",
    "a = ps.sqldf(q)\n",
    "print(a)"
   ]
  },
  {
   "cell_type": "markdown",
   "metadata": {},
   "source": [
    "#### Example "
   ]
  },
  {
   "cell_type": "code",
   "execution_count": 24,
   "metadata": {},
   "outputs": [
    {
     "name": "stdout",
     "output_type": "stream",
     "text": [
      "   sumOne  sumTwo  sumTwo\n",
      "0       8      16      24\n"
     ]
    }
   ],
   "source": [
    "q = \"\"\"\n",
    "    SELECT \n",
    "    sum(1) as sumOne, \n",
    "    sum(2) as sumTwo,\n",
    "    sum(3) as sumTwo\n",
    "    FROM df\n",
    "    \"\"\"\n",
    "a = ps.sqldf(q)\n",
    "print(a)"
   ]
  },
  {
   "cell_type": "markdown",
   "metadata": {},
   "source": [
    "#### Example "
   ]
  },
  {
   "cell_type": "code",
   "execution_count": 25,
   "metadata": {},
   "outputs": [
    {
     "name": "stdout",
     "output_type": "stream",
     "text": [
      "   id      c1      c2      c3\n",
      "0   1     Red  Yellow    Blue\n",
      "1   2    None     Red   Green\n",
      "2   3  Yellow    None  Violet\n"
     ]
    }
   ],
   "source": [
    "tab = pd.DataFrame(\n",
    "    {\"id\":[1,2,3],\n",
    "     \"c1\":[\"Red\",None,\"Yellow\"],\n",
    "     \"c2\":[\"Yellow\",\"Red\",None],\n",
    "     \"c3\":[\"Blue\",\"Green\",\"Violet\"]\n",
    "    }\n",
    ")\n",
    "print(tab)"
   ]
  },
  {
   "cell_type": "code",
   "execution_count": 26,
   "metadata": {},
   "outputs": [
    {
     "name": "stdout",
     "output_type": "stream",
     "text": [
      "   id\n",
      "0   1\n",
      "1   3\n"
     ]
    }
   ],
   "source": [
    "q = \"\"\"\n",
    "    SELECT id \n",
    "    FROM tab\n",
    "    WHERE c1=\"Yellow\" OR c2=\"Yellow\" OR c3=\"Yellow\"\n",
    "    \"\"\"\n",
    "a = ps.sqldf(q)\n",
    "print(a)"
   ]
  },
  {
   "cell_type": "code",
   "execution_count": 27,
   "metadata": {},
   "outputs": [
    {
     "name": "stdout",
     "output_type": "stream",
     "text": [
      "   id\n",
      "0   1\n",
      "1   3\n"
     ]
    }
   ],
   "source": [
    "q = \"\"\"\n",
    "    SELECT id \n",
    "    FROM tab\n",
    "    WHERE \"Yellow\" in (c1,c2,c3)\n",
    "    \"\"\"\n",
    "a = ps.sqldf(q)\n",
    "print(a)"
   ]
  },
  {
   "cell_type": "markdown",
   "metadata": {},
   "source": [
    "#### Example"
   ]
  },
  {
   "cell_type": "code",
   "execution_count": 28,
   "metadata": {},
   "outputs": [],
   "source": [
    "tab = pd.DataFrame({\"col\" : ['d', 'x', 'T', 8, 'a', 9, 6, 2, 'V']})"
   ]
  },
  {
   "cell_type": "code",
   "execution_count": 29,
   "metadata": {},
   "outputs": [
    {
     "name": "stdout",
     "output_type": "stream",
     "text": [
      "  col convertText\n",
      "0   d        BUZZ\n",
      "1   x        BUZZ\n",
      "2   T        BUZZ\n",
      "3   8        FIZZ\n",
      "4   a        BUZZ\n",
      "5   9        FIZZ\n",
      "6   6        FIZZ\n",
      "7   2        FIZZ\n",
      "8   V        BUZZ\n"
     ]
    }
   ],
   "source": [
    "q = \"\"\"\n",
    "    SELECT col,\n",
    "    CASE \n",
    "    WHEN TYPEOF(col)=\"text\" AND LOWER(col) IN ('a','d','x','t','v') THEN \"BUZZ\"\n",
    "    ELSE \"FIZZ\"\n",
    "    END AS convertText\n",
    "    FROM tab;\n",
    "    \"\"\"\n",
    "a = ps.sqldf(q)\n",
    "print(a)"
   ]
  },
  {
   "cell_type": "markdown",
   "metadata": {},
   "source": [
    "### Example"
   ]
  },
  {
   "cell_type": "code",
   "execution_count": 30,
   "metadata": {},
   "outputs": [],
   "source": [
    "tab = pd.DataFrame({\"col\" : [2.1, -2.3, 4.5, -4, -3, 0.9, 2]})"
   ]
  },
  {
   "cell_type": "code",
   "execution_count": 31,
   "metadata": {},
   "outputs": [
    {
     "name": "stdout",
     "output_type": "stream",
     "text": [
      "   posSum  negSum\n",
      "0     9.5    -9.3\n"
     ]
    }
   ],
   "source": [
    "q = \"\"\"\n",
    "    WITH \n",
    "    pos AS (SELECT SUM(col) AS posSum FROM tab WHERE col>0),\n",
    "    neg AS (SELECT SUM(col) AS negSum FROM tab WHERE col<0)\n",
    "    SELECT posSum, negSum from pos, neg;\n",
    "    \"\"\"\n",
    "a = ps.sqldf(q)\n",
    "print(a)"
   ]
  },
  {
   "cell_type": "code",
   "execution_count": 32,
   "metadata": {},
   "outputs": [
    {
     "name": "stdout",
     "output_type": "stream",
     "text": [
      "   posSum  negSum\n",
      "0     9.5    -9.3\n"
     ]
    }
   ],
   "source": [
    "q = \"\"\" \n",
    "    SELECT \n",
    "    SUM(CASE \n",
    "    WHEN col>0 THEN col\n",
    "    ELSE 0 \n",
    "    END) AS posSum, \n",
    "    SUM(CASE \n",
    "    WHEN col<0 THEN col\n",
    "    ELSE 0 \n",
    "    END) AS negSum     \n",
    "    FROM tab\n",
    "    \"\"\"\n",
    "a = ps.sqldf(q)\n",
    "print(a)"
   ]
  },
  {
   "cell_type": "markdown",
   "metadata": {},
   "source": [
    "### Example"
   ]
  },
  {
   "cell_type": "code",
   "execution_count": 33,
   "metadata": {},
   "outputs": [
    {
     "name": "stdout",
     "output_type": "stream",
     "text": [
      "   col  colInt  colMul\n",
      "0  2.1       2     210\n",
      "1 -2.3      -2    -229\n",
      "2  4.5       4     450\n",
      "3 -4.0      -4    -400\n",
      "4 -3.0      -3    -300\n",
      "5  0.9       0      90\n",
      "6  2.0       2     200\n"
     ]
    }
   ],
   "source": [
    "q = \"\"\"\n",
    "    SELECT col, \n",
    "    CAST(col AS INT) colInt, \n",
    "    CAST(col*100 AS INT) colMul\n",
    "    FROM tab\n",
    "    \"\"\"\n",
    "a = ps.sqldf(q)\n",
    "print(a)"
   ]
  },
  {
   "cell_type": "markdown",
   "metadata": {},
   "source": [
    "### Example : Self-Join"
   ]
  },
  {
   "cell_type": "code",
   "execution_count": 34,
   "metadata": {},
   "outputs": [],
   "source": [
    "empid     = [1,2,3,4,5,6,7,8,9,10]\n",
    "empname   = [\"Jone\",\"David\",\"Alice\",\"Bobby\",\"Lisa\",\"Anne\",\"Romero\",\"Adam\",\"Nery\",\"Joe\"]\n",
    "empsalary = [4765,8100,5635,3315,6000,7495,6985,6370,5150,3870]\n",
    "managerid = [8,10,8,7,8,10,None,10,10,7]\n",
    "\n",
    "tab = pd.DataFrame(\n",
    "    {\"EmpID\": empid, \n",
    "     \"EmpName\": empname, \n",
    "     \"EmpSalary\": empsalary, \n",
    "     \"ManagerID\": managerid\n",
    "    }\n",
    ")"
   ]
  },
  {
   "cell_type": "code",
   "execution_count": 35,
   "metadata": {},
   "outputs": [
    {
     "name": "stdout",
     "output_type": "stream",
     "text": [
      "   managerid EmpName  avgSalary\n",
      "0          7  Romero       3592\n",
      "1          8    Adam       5466\n",
      "2         10     Joe       6778\n"
     ]
    }
   ],
   "source": [
    "q = \"\"\"\n",
    "    SELECT f.ManagerID, EmpName, f.avgSalary\n",
    "    FROM tab\n",
    "    JOIN\n",
    "    (SELECT CAST(ManagerID AS INT) managerid, CAST(avg(EmpSalary) AS INT) as avgSalary\n",
    "    FROM tab\n",
    "    WHERE ManagerID IS NOT NULL\n",
    "    GROUP BY ManagerID) as f\n",
    "    ON tab.EmpID = f.ManagerID\n",
    "    \"\"\"\n",
    "a = ps.sqldf(q)\n",
    "print(a)"
   ]
  }
 ],
 "metadata": {
  "kernelspec": {
   "display_name": "Python 3",
   "language": "python",
   "name": "python3"
  },
  "language_info": {
   "codemirror_mode": {
    "name": "ipython",
    "version": 3
   },
   "file_extension": ".py",
   "mimetype": "text/x-python",
   "name": "python",
   "nbconvert_exporter": "python",
   "pygments_lexer": "ipython3",
   "version": "3.9.13"
  }
 },
 "nbformat": 4,
 "nbformat_minor": 4
}
