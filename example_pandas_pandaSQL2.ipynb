{
 "cells": [
  {
   "cell_type": "markdown",
   "metadata": {},
   "source": [
    "# Pandas PandaSQL "
   ]
  },
  {
   "cell_type": "code",
   "execution_count": 6,
   "metadata": {},
   "outputs": [],
   "source": [
    "import numpy as np\n",
    "import pandas as pd\n",
    "import pandasql as ps"
   ]
  },
  {
   "cell_type": "markdown",
   "metadata": {},
   "source": [
    "### Example 1"
   ]
  },
  {
   "cell_type": "code",
   "execution_count": 7,
   "metadata": {},
   "outputs": [],
   "source": [
    "transactions = pd.DataFrame(\n",
    "    {\"date\":[\"2020-01-01\",\"2020-02-02\",\"2020-03-03\",\"2020-04-04\",\"2020-05-05\",\"2020-06-07\",\n",
    "             \"2020-07-08\",\n",
    "             \"2020-11-24\",\"2020-11-28\",\"2020-12-01\",\"2020-12-04\",\"2020-12-15\",\"2020-12-28\"], \n",
    "     \"consumption\": [35,60,30,35,55,90,\n",
    "                     5,\n",
    "                     50,100,100,10,50,10],\n",
    "    \"bag\":['ch','hb','ch','hb','mk','zn',\n",
    "           'ks',\n",
    "           'mk','mk','mk','ks','mk','hb']}\n",
    ")"
   ]
  },
  {
   "cell_type": "code",
   "execution_count": 8,
   "metadata": {},
   "outputs": [
    {
     "data": {
      "text/html": [
       "<div>\n",
       "<style scoped>\n",
       "    .dataframe tbody tr th:only-of-type {\n",
       "        vertical-align: middle;\n",
       "    }\n",
       "\n",
       "    .dataframe tbody tr th {\n",
       "        vertical-align: top;\n",
       "    }\n",
       "\n",
       "    .dataframe thead th {\n",
       "        text-align: right;\n",
       "    }\n",
       "</style>\n",
       "<table border=\"1\" class=\"dataframe\">\n",
       "  <thead>\n",
       "    <tr style=\"text-align: right;\">\n",
       "      <th></th>\n",
       "      <th>date</th>\n",
       "      <th>consumption</th>\n",
       "      <th>bag</th>\n",
       "    </tr>\n",
       "  </thead>\n",
       "  <tbody>\n",
       "    <tr>\n",
       "      <th>0</th>\n",
       "      <td>2020-01-01</td>\n",
       "      <td>35</td>\n",
       "      <td>ch</td>\n",
       "    </tr>\n",
       "    <tr>\n",
       "      <th>1</th>\n",
       "      <td>2020-02-02</td>\n",
       "      <td>60</td>\n",
       "      <td>hb</td>\n",
       "    </tr>\n",
       "    <tr>\n",
       "      <th>2</th>\n",
       "      <td>2020-03-03</td>\n",
       "      <td>30</td>\n",
       "      <td>ch</td>\n",
       "    </tr>\n",
       "  </tbody>\n",
       "</table>\n",
       "</div>"
      ],
      "text/plain": [
       "         date  consumption bag\n",
       "0  2020-01-01           35  ch\n",
       "1  2020-02-02           60  hb\n",
       "2  2020-03-03           30  ch"
      ]
     },
     "execution_count": 8,
     "metadata": {},
     "output_type": "execute_result"
    }
   ],
   "source": [
    "transactions.head(3)"
   ]
  },
  {
   "cell_type": "markdown",
   "metadata": {},
   "source": [
    "Holiday Sales"
   ]
  },
  {
   "cell_type": "code",
   "execution_count": 9,
   "metadata": {},
   "outputs": [
    {
     "name": "stdout",
     "output_type": "stream",
     "text": [
      "  bag  holiday_sale\n",
      "0  ks            10\n",
      "1  mk           300\n"
     ]
    }
   ],
   "source": [
    "q = \"\"\" \n",
    "    WITH f1 AS (\n",
    "    SELECT \n",
    "    bag,\n",
    "    SUM(consumption) as  holiday_sale \n",
    "    FROM transactions\n",
    "    WHERE date >= '2020-11-24' AND date <= '2020-12-15'\n",
    "    GROUP BY bag)\n",
    "    SELECT * FROM f1;\n",
    "    \"\"\"\n",
    "a = ps.sqldf(q)\n",
    "print(a)"
   ]
  },
  {
   "cell_type": "markdown",
   "metadata": {},
   "source": [
    "Non-holiday Sales"
   ]
  },
  {
   "cell_type": "code",
   "execution_count": 10,
   "metadata": {},
   "outputs": [
    {
     "name": "stdout",
     "output_type": "stream",
     "text": [
      "  bag  nonholiday_sale\n",
      "0  ch               65\n",
      "1  hb              105\n",
      "2  ks                5\n",
      "3  mk               55\n",
      "4  zn               90\n"
     ]
    }
   ],
   "source": [
    "q = \"\"\"\n",
    "    WITH f2 AS(\n",
    "    SELECT\n",
    "    bag, \n",
    "    SUM(consumption) as  nonholiday_sale\n",
    "    FROM transactions\n",
    "    WHERE date < '2020-11-24' OR date > '2020-12-15'\n",
    "    GROUP BY bag)\n",
    "    SELECT * FROM f2;\n",
    "    \"\"\"\n",
    "a = ps.sqldf(q)\n",
    "print(a)"
   ]
  },
  {
   "cell_type": "markdown",
   "metadata": {},
   "source": [
    "Use UNION"
   ]
  },
  {
   "cell_type": "code",
   "execution_count": 6,
   "metadata": {},
   "outputs": [
    {
     "name": "stdout",
     "output_type": "stream",
     "text": [
      "  bag  holiday_sale  nonholiday_sale\n",
      "0  ch             0               65\n",
      "1  hb             0              105\n",
      "2  ks            10                5\n",
      "3  mk           300               55\n",
      "4  zn             0               90\n"
     ]
    }
   ],
   "source": [
    "q = \"\"\" \n",
    "    WITH f1 AS(\n",
    "    SELECT \n",
    "    bag,\n",
    "    SUM(consumption) as  holiday_sale \n",
    "    FROM transactions\n",
    "    WHERE date BETWEEN '2020-11-24' AND '2020-12-15'\n",
    "    GROUP BY bag),\n",
    "    \n",
    "    f2 AS(\n",
    "    SELECT\n",
    "    bag, \n",
    "    SUM(consumption) as  nonholiday_sale\n",
    "    FROM transactions\n",
    "    WHERE date < '2020-11-24' OR date > '2020-12-15'\n",
    "    GROUP BY bag),\n",
    "    \n",
    "    f3 AS(\n",
    "    SELECT \n",
    "    f1.bag,\n",
    "    CASE WHEN f1.holiday_sale IS NULL THEN 0\n",
    "    ELSE f1.holiday_sale\n",
    "    END AS holiday_sale, \n",
    "    CASE WHEN f2.nonholiday_sale IS NULL THEN 0\n",
    "    ELSE f2.nonholiday_sale\n",
    "    END AS nonholiday_sale\n",
    "    FROM f1 \n",
    "    LEFT JOIN f2\n",
    "    ON f1.bag=f2.bag),\n",
    "    \n",
    "    f4 AS(\n",
    "    SELECT \n",
    "    f2.bag,\n",
    "    CASE WHEN f1.holiday_sale IS NULL THEN 0\n",
    "    ELSE f1.holiday_sale\n",
    "    END AS holiday_sale, \n",
    "    CASE WHEN f2.nonholiday_sale IS NULL THEN 0\n",
    "    ELSE f2.nonholiday_sale\n",
    "    END AS nonholiday_sale\n",
    "    FROM f2 \n",
    "    LEFT JOIN f1\n",
    "    ON f2.bag=f1.bag)\n",
    "    \n",
    "    SELECT * FROM f3\n",
    "    UNION\n",
    "    SELECT* FROM f4;\n",
    "    \"\"\"\n",
    "a = ps.sqldf(q)\n",
    "print(a)"
   ]
  },
  {
   "cell_type": "markdown",
   "metadata": {},
   "source": [
    "Use FULL OUTER JOIN"
   ]
  },
  {
   "cell_type": "code",
   "execution_count": 7,
   "metadata": {},
   "outputs": [
    {
     "name": "stdout",
     "output_type": "stream",
     "text": [
      "    bag  holiday_sale bag  nonholiday_sale\n",
      "0    ks          10.0  ks                5\n",
      "1    mk         300.0  mk               55\n",
      "2  None           NaN  ch               65\n",
      "3  None           NaN  hb              105\n",
      "4  None           NaN  zn               90\n"
     ]
    }
   ],
   "source": [
    "q = \"\"\" \n",
    "    WITH f1 AS(\n",
    "    SELECT \n",
    "    bag,\n",
    "    SUM(consumption) as  holiday_sale \n",
    "    FROM transactions\n",
    "    WHERE date BETWEEN '2020-11-24' AND '2020-12-15'\n",
    "    GROUP BY bag),\n",
    "    \n",
    "    f2 AS(\n",
    "    SELECT\n",
    "    bag, \n",
    "    SUM(consumption) as  nonholiday_sale\n",
    "    FROM transactions\n",
    "    WHERE date < '2020-11-24' OR date > '2020-12-15'\n",
    "    GROUP BY bag)\n",
    "    \n",
    "    SELECT \n",
    "    f1.*, \n",
    "    f2.*\n",
    "    FROM f1\n",
    "    FULL OUTER JOIN f2\n",
    "    ON f1.bag=f2.bag;\n",
    "    \"\"\"\n",
    "a = ps.sqldf(q)\n",
    "print(a)"
   ]
  },
  {
   "cell_type": "markdown",
   "metadata": {},
   "source": [
    "### Example 2"
   ]
  },
  {
   "cell_type": "code",
   "execution_count": 8,
   "metadata": {},
   "outputs": [
    {
     "data": {
      "text/html": [
       "<div>\n",
       "<style scoped>\n",
       "    .dataframe tbody tr th:only-of-type {\n",
       "        vertical-align: middle;\n",
       "    }\n",
       "\n",
       "    .dataframe tbody tr th {\n",
       "        vertical-align: top;\n",
       "    }\n",
       "\n",
       "    .dataframe thead th {\n",
       "        text-align: right;\n",
       "    }\n",
       "</style>\n",
       "<table border=\"1\" class=\"dataframe\">\n",
       "  <thead>\n",
       "    <tr style=\"text-align: right;\">\n",
       "      <th></th>\n",
       "      <th>ProductID</th>\n",
       "      <th>ProductName</th>\n",
       "      <th>SupplierID</th>\n",
       "      <th>CategoryID</th>\n",
       "      <th>Unit</th>\n",
       "      <th>Price</th>\n",
       "    </tr>\n",
       "  </thead>\n",
       "  <tbody>\n",
       "    <tr>\n",
       "      <th>0</th>\n",
       "      <td>1</td>\n",
       "      <td>Chais</td>\n",
       "      <td>1</td>\n",
       "      <td>1</td>\n",
       "      <td>10 boxes x 20 bags</td>\n",
       "      <td>18</td>\n",
       "    </tr>\n",
       "    <tr>\n",
       "      <th>1</th>\n",
       "      <td>2</td>\n",
       "      <td>Chang</td>\n",
       "      <td>1</td>\n",
       "      <td>1</td>\n",
       "      <td>24 - 12 oz bottles</td>\n",
       "      <td>19</td>\n",
       "    </tr>\n",
       "    <tr>\n",
       "      <th>2</th>\n",
       "      <td>3</td>\n",
       "      <td>Aniseed Syrup</td>\n",
       "      <td>1</td>\n",
       "      <td>2</td>\n",
       "      <td>12 - 550 ml bottles</td>\n",
       "      <td>10</td>\n",
       "    </tr>\n",
       "    <tr>\n",
       "      <th>3</th>\n",
       "      <td>4</td>\n",
       "      <td>Cajun Seasoning</td>\n",
       "      <td>2</td>\n",
       "      <td>2</td>\n",
       "      <td>48 - 6 oz jars</td>\n",
       "      <td>22</td>\n",
       "    </tr>\n",
       "    <tr>\n",
       "      <th>4</th>\n",
       "      <td>5</td>\n",
       "      <td>Gumbo Mix</td>\n",
       "      <td>2</td>\n",
       "      <td>2</td>\n",
       "      <td>36 boxes</td>\n",
       "      <td>21.35</td>\n",
       "    </tr>\n",
       "    <tr>\n",
       "      <th>5</th>\n",
       "      <td>6</td>\n",
       "      <td>Boysenberry Spread</td>\n",
       "      <td>3</td>\n",
       "      <td>2</td>\n",
       "      <td>12 - 8 oz jars</td>\n",
       "      <td>25</td>\n",
       "    </tr>\n",
       "    <tr>\n",
       "      <th>6</th>\n",
       "      <td>7</td>\n",
       "      <td>Organic Dried Pears</td>\n",
       "      <td>3</td>\n",
       "      <td>7</td>\n",
       "      <td>12 - 1 lb pkgs.</td>\n",
       "      <td>30</td>\n",
       "    </tr>\n",
       "    <tr>\n",
       "      <th>7</th>\n",
       "      <td>8</td>\n",
       "      <td>Cranberry Sauce</td>\n",
       "      <td>3</td>\n",
       "      <td>2</td>\n",
       "      <td>12 - 12 oz jars</td>\n",
       "      <td>40</td>\n",
       "    </tr>\n",
       "    <tr>\n",
       "      <th>8</th>\n",
       "      <td>9</td>\n",
       "      <td>Mishi Kobe Niku</td>\n",
       "      <td>4</td>\n",
       "      <td>6</td>\n",
       "      <td>18 - 500 g pkgs.</td>\n",
       "      <td>97</td>\n",
       "    </tr>\n",
       "  </tbody>\n",
       "</table>\n",
       "</div>"
      ],
      "text/plain": [
       "  ProductID          ProductName SupplierID CategoryID                 Unit  \\\n",
       "0         1                Chais          1          1   10 boxes x 20 bags   \n",
       "1         2                Chang          1          1   24 - 12 oz bottles   \n",
       "2         3        Aniseed Syrup          1          2  12 - 550 ml bottles   \n",
       "3         4      Cajun Seasoning          2          2       48 - 6 oz jars   \n",
       "4         5            Gumbo Mix          2          2             36 boxes   \n",
       "5         6   Boysenberry Spread          3          2       12 - 8 oz jars   \n",
       "6         7  Organic Dried Pears          3          7      12 - 1 lb pkgs.   \n",
       "7         8      Cranberry Sauce          3          2      12 - 12 oz jars   \n",
       "8         9      Mishi Kobe Niku          4          6     18 - 500 g pkgs.   \n",
       "\n",
       "   Price  \n",
       "0     18  \n",
       "1     19  \n",
       "2     10  \n",
       "3     22  \n",
       "4  21.35  \n",
       "5     25  \n",
       "6     30  \n",
       "7     40  \n",
       "8     97  "
      ]
     },
     "execution_count": 8,
     "metadata": {},
     "output_type": "execute_result"
    }
   ],
   "source": [
    "dataArr = np.array(\n",
    "    [[1,\"Chais\",1,1,\"10 boxes x 20 bags\",18],\n",
    "    [2,\"Chang\",1,1,\"24 - 12 oz bottles\",19],\n",
    "    [3,\"Aniseed Syrup\",1,2,\"12 - 550 ml bottles\", 10],\n",
    "    [4,\"Cajun Seasoning\",2,2, \"48 - 6 oz jars\", 22],\n",
    "    [5,\"Gumbo Mix\",2,2,\"36 boxes\",21.35],\n",
    "    [6,\"Boysenberry Spread\", 3,2,\"12 - 8 oz jars\", 25],\n",
    "    [7,\"Organic Dried Pears\",3,7,\"12 - 1 lb pkgs.\",30],\n",
    "    [8,\"Cranberry Sauce\", 3,2,\"12 - 12 oz jars\",40],\n",
    "    [9,\"Mishi Kobe Niku\", 4,6,\"18 - 500 g pkgs.\",97]]\n",
    ")\n",
    "\n",
    "productDetail = pd.DataFrame(\n",
    "    dataArr, columns=['ProductID','ProductName','SupplierID','CategoryID','Unit','Price']\n",
    ")\n",
    "productDetail"
   ]
  },
  {
   "cell_type": "code",
   "execution_count": 9,
   "metadata": {},
   "outputs": [
    {
     "data": {
      "text/html": [
       "<div>\n",
       "<style scoped>\n",
       "    .dataframe tbody tr th:only-of-type {\n",
       "        vertical-align: middle;\n",
       "    }\n",
       "\n",
       "    .dataframe tbody tr th {\n",
       "        vertical-align: top;\n",
       "    }\n",
       "\n",
       "    .dataframe thead th {\n",
       "        text-align: right;\n",
       "    }\n",
       "</style>\n",
       "<table border=\"1\" class=\"dataframe\">\n",
       "  <thead>\n",
       "    <tr style=\"text-align: right;\">\n",
       "      <th></th>\n",
       "      <th>OrderDetailID</th>\n",
       "      <th>OrderID</th>\n",
       "      <th>ProductID</th>\n",
       "      <th>Quantity</th>\n",
       "    </tr>\n",
       "  </thead>\n",
       "  <tbody>\n",
       "    <tr>\n",
       "      <th>0</th>\n",
       "      <td>1</td>\n",
       "      <td>10248</td>\n",
       "      <td>11</td>\n",
       "      <td>12</td>\n",
       "    </tr>\n",
       "    <tr>\n",
       "      <th>1</th>\n",
       "      <td>2</td>\n",
       "      <td>10248</td>\n",
       "      <td>42</td>\n",
       "      <td>10</td>\n",
       "    </tr>\n",
       "    <tr>\n",
       "      <th>2</th>\n",
       "      <td>3</td>\n",
       "      <td>10248</td>\n",
       "      <td>72</td>\n",
       "      <td>5</td>\n",
       "    </tr>\n",
       "    <tr>\n",
       "      <th>3</th>\n",
       "      <td>4</td>\n",
       "      <td>10249</td>\n",
       "      <td>14</td>\n",
       "      <td>9</td>\n",
       "    </tr>\n",
       "    <tr>\n",
       "      <th>4</th>\n",
       "      <td>5</td>\n",
       "      <td>10249</td>\n",
       "      <td>51</td>\n",
       "      <td>40</td>\n",
       "    </tr>\n",
       "    <tr>\n",
       "      <th>5</th>\n",
       "      <td>6</td>\n",
       "      <td>10250</td>\n",
       "      <td>41</td>\n",
       "      <td>10</td>\n",
       "    </tr>\n",
       "    <tr>\n",
       "      <th>6</th>\n",
       "      <td>7</td>\n",
       "      <td>10250</td>\n",
       "      <td>51</td>\n",
       "      <td>35</td>\n",
       "    </tr>\n",
       "    <tr>\n",
       "      <th>7</th>\n",
       "      <td>8</td>\n",
       "      <td>10250</td>\n",
       "      <td>65</td>\n",
       "      <td>15</td>\n",
       "    </tr>\n",
       "    <tr>\n",
       "      <th>8</th>\n",
       "      <td>9</td>\n",
       "      <td>10251</td>\n",
       "      <td>22</td>\n",
       "      <td>6</td>\n",
       "    </tr>\n",
       "    <tr>\n",
       "      <th>9</th>\n",
       "      <td>10</td>\n",
       "      <td>10251</td>\n",
       "      <td>57</td>\n",
       "      <td>15</td>\n",
       "    </tr>\n",
       "  </tbody>\n",
       "</table>\n",
       "</div>"
      ],
      "text/plain": [
       "   OrderDetailID  OrderID  ProductID  Quantity\n",
       "0              1    10248         11        12\n",
       "1              2    10248         42        10\n",
       "2              3    10248         72         5\n",
       "3              4    10249         14         9\n",
       "4              5    10249         51        40\n",
       "5              6    10250         41        10\n",
       "6              7    10250         51        35\n",
       "7              8    10250         65        15\n",
       "8              9    10251         22         6\n",
       "9             10    10251         57        15"
      ]
     },
     "execution_count": 9,
     "metadata": {},
     "output_type": "execute_result"
    }
   ],
   "source": [
    "dataArr = np.array(\n",
    "    [[1,10248,11,12],\n",
    "     [2,10248,42,10],\n",
    "     [3,10248,72,5],\n",
    "     [4,10249,14,9],\n",
    "     [5,10249,51,40],\n",
    "     [6,10250,41,10],\n",
    "     [7,10250,51,35],\n",
    "     [8,10250,65,15],\n",
    "     [9,10251,22,6],\n",
    "     [10,10251,57,15]]\n",
    ")\n",
    "orderDetail = pd.DataFrame(dataArr, columns=['OrderDetailID','OrderID','ProductID','Quantity'])\n",
    "orderDetail"
   ]
  },
  {
   "cell_type": "markdown",
   "metadata": {},
   "source": [
    "Use of 'EXISTS'"
   ]
  },
  {
   "cell_type": "code",
   "execution_count": 10,
   "metadata": {},
   "outputs": [
    {
     "name": "stdout",
     "output_type": "stream",
     "text": [
      "  ProductID          ProductName\n",
      "0         1                Chais\n",
      "1         2                Chang\n",
      "2         3        Aniseed Syrup\n",
      "3         4      Cajun Seasoning\n",
      "4         5            Gumbo Mix\n",
      "5         6   Boysenberry Spread\n",
      "6         7  Organic Dried Pears\n",
      "7         8      Cranberry Sauce\n",
      "8         9      Mishi Kobe Niku\n"
     ]
    }
   ],
   "source": [
    "q = \"\"\"\n",
    "    SELECT \n",
    "    ProductID,\n",
    "    ProductName\n",
    "    FROM \n",
    "    productDetail\n",
    "    WHERE EXISTS\n",
    "    (SELECT\n",
    "    ProductID\n",
    "    FROM orderDetail \n",
    "    WHERE Quantity=10);\n",
    "    \"\"\"\n",
    "a = ps.sqldf(q)\n",
    "print(a)"
   ]
  },
  {
   "cell_type": "markdown",
   "metadata": {},
   "source": [
    "Use of 'ANY'"
   ]
  },
  {
   "cell_type": "code",
   "execution_count": 11,
   "metadata": {},
   "outputs": [],
   "source": [
    "# q = \"\"\"\n",
    "#     SELECT ProductName\n",
    "#     FROM productDetail\n",
    "#     WHERE ProductID = ANY\n",
    "#       (SELECT ProductID\n",
    "#       FROM orderDetail\n",
    "#       WHERE Quantity=10);\n",
    "#     \"\"\"\n",
    "# a = ps.sqldf(q)\n",
    "# print(a)"
   ]
  },
  {
   "cell_type": "markdown",
   "metadata": {},
   "source": [
    "### Example 3"
   ]
  },
  {
   "cell_type": "code",
   "execution_count": 12,
   "metadata": {},
   "outputs": [],
   "source": [
    "teachers = pd.DataFrame(\n",
    "    {'id':[1,2,3,4,5],\n",
    "    'name':['peter','megan','rose','linda','mary'],\n",
    "    'age':[32,43,29,30,41]})\n",
    "\n",
    "students = pd.DataFrame(\n",
    "    {'id':[1,2,3,4,5],\n",
    "    'name':['harry','jack','joe','dant','bruce'],\n",
    "    'age':[23,42,32,23,40]})"
   ]
  },
  {
   "cell_type": "markdown",
   "metadata": {},
   "source": [
    "Use of 'ANY'"
   ]
  },
  {
   "cell_type": "code",
   "execution_count": 13,
   "metadata": {},
   "outputs": [],
   "source": [
    "# q = \"\"\"\n",
    "#     SELECT *\n",
    "#     FROM teachers\n",
    "#     WHERE age = ANY (\n",
    "#       SELECT age\n",
    "#       FROM students);\n",
    "#     \"\"\"\n",
    "# a = ps.sqldf(q, globals())\n",
    "# print(a)"
   ]
  }
 ],
 "metadata": {
  "kernelspec": {
   "display_name": "Python 3",
   "language": "python",
   "name": "python3"
  },
  "language_info": {
   "codemirror_mode": {
    "name": "ipython",
    "version": 3
   },
   "file_extension": ".py",
   "mimetype": "text/x-python",
   "name": "python",
   "nbconvert_exporter": "python",
   "pygments_lexer": "ipython3",
   "version": "3.9.13"
  }
 },
 "nbformat": 4,
 "nbformat_minor": 4
}
