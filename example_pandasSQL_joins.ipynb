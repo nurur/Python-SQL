{
 "cells": [
  {
   "cell_type": "markdown",
   "metadata": {},
   "source": [
    "# Pandas SQL : Joins & Sub-Queries"
   ]
  },
  {
   "cell_type": "markdown",
   "metadata": {},
   "source": [
    "Inner Join\n",
    "\n",
    "Outer Join: Left, Right, Full \n",
    "\n",
    "Cross Join \n",
    "\n",
    "Self Join\n",
    "\n",
    "Correlated Sub-Query "
   ]
  },
  {
   "cell_type": "code",
   "execution_count": 1,
   "metadata": {},
   "outputs": [],
   "source": [
    "import numpy as np\n",
    "import pandas as pd\n",
    "import pandasql as ps"
   ]
  },
  {
   "cell_type": "markdown",
   "metadata": {},
   "source": [
    "### Example : Inner, Outer, Cross Joins"
   ]
  },
  {
   "cell_type": "markdown",
   "metadata": {},
   "source": [
    "Unique Keys : One-to-One"
   ]
  },
  {
   "cell_type": "code",
   "execution_count": 2,
   "metadata": {},
   "outputs": [
    {
     "name": "stdout",
     "output_type": "stream",
     "text": [
      " \n"
     ]
    }
   ],
   "source": [
    "customerid   = [1,2,3,4,5,6,7,8,9]\n",
    "customername = [\"Jone\",\"David\",\"Alice\",\"Bobby\",\"Lisa\",\"Anne\",\"Adam\",\"Nery\",\"Joe\"]\n",
    "df_customer  = pd.DataFrame({\"CustID\": customerid, \"CustName\": customername})\n",
    "print(' ')\n",
    "purchaseid = [1,3,5,11,19,27]\n",
    "productid  = [65,80,35,80,55,35]\n",
    "df_product = pd.DataFrame({\"PurchaseID\": purchaseid, \"ProdID\": productid})"
   ]
  },
  {
   "cell_type": "code",
   "execution_count": 3,
   "metadata": {},
   "outputs": [
    {
     "data": {
      "text/plain": [
       "(9, 2)"
      ]
     },
     "execution_count": 3,
     "metadata": {},
     "output_type": "execute_result"
    }
   ],
   "source": [
    "df_customer.shape"
   ]
  },
  {
   "cell_type": "code",
   "execution_count": 4,
   "metadata": {},
   "outputs": [
    {
     "data": {
      "text/plain": [
       "(6, 2)"
      ]
     },
     "execution_count": 4,
     "metadata": {},
     "output_type": "execute_result"
    }
   ],
   "source": [
    "df_product.shape"
   ]
  },
  {
   "cell_type": "code",
   "execution_count": 5,
   "metadata": {},
   "outputs": [
    {
     "name": "stdout",
     "output_type": "stream",
     "text": [
      "   CustID CustName  ProdID\n",
      "0       1     Jone    65.0\n",
      "1       2    David     NaN\n",
      "2       3    Alice    80.0\n",
      "3       4    Bobby     NaN\n",
      "4       5     Lisa    35.0\n",
      "5       6     Anne     NaN\n",
      "6       7     Adam     NaN\n",
      "7       8     Nery     NaN\n",
      "8       9      Joe     NaN\n"
     ]
    }
   ],
   "source": [
    "q = \"\"\"\n",
    "    SELECT \n",
    "    c.*, \n",
    "    p.ProdID\n",
    "    FROM df_customer AS c\n",
    "    LEFT JOIN\n",
    "    df_product as p\n",
    "    ON c.CustID = p.PurchaseID  \n",
    "    \"\"\"\n",
    "a = ps.sqldf(q)\n",
    "print(a)"
   ]
  },
  {
   "cell_type": "code",
   "execution_count": 6,
   "metadata": {},
   "outputs": [
    {
     "name": "stdout",
     "output_type": "stream",
     "text": [
      "   CustID CustName  ProdID\n",
      "0       1     Jone      65\n",
      "1       3    Alice      80\n",
      "2       5     Lisa      35\n"
     ]
    }
   ],
   "source": [
    "q = \"\"\"\n",
    "    SELECT \n",
    "    c.*, \n",
    "    p.ProdID\n",
    "    FROM df_customer AS c\n",
    "    LEFT JOIN\n",
    "    df_product as p\n",
    "    ON c.CustID = p.PurchaseID\n",
    "    WHERE p.ProdID IS NOT NULL\n",
    "    \"\"\"\n",
    "a = ps.sqldf(q)\n",
    "print(a)"
   ]
  },
  {
   "cell_type": "markdown",
   "metadata": {},
   "source": [
    "Duplicate Keys: One-to-Many"
   ]
  },
  {
   "cell_type": "code",
   "execution_count": 7,
   "metadata": {},
   "outputs": [
    {
     "name": "stdout",
     "output_type": "stream",
     "text": [
      " \n"
     ]
    }
   ],
   "source": [
    "customerid   = [1,2,3,4,5]\n",
    "customername = [\"Jone\",\"David\",\"Alice\",\"Bobby\",\"Lisa\"]\n",
    "df_customer  = pd.DataFrame({\"CustID\": customerid, \"CustName\": customername})\n",
    "print(' ')\n",
    "purchaseid = [1,3,15,4,3,3,4,27]\n",
    "productid  = [65,80,35,80,55,35,40,80]\n",
    "df_product = pd.DataFrame({\"PurchaseID\": purchaseid, \"ProdID\": productid})"
   ]
  },
  {
   "cell_type": "code",
   "execution_count": 8,
   "metadata": {},
   "outputs": [
    {
     "name": "stdout",
     "output_type": "stream",
     "text": [
      "   CustID CustName  ProdID\n",
      "0       1     Jone    65.0\n",
      "1       2    David     NaN\n",
      "2       3    Alice    35.0\n",
      "3       3    Alice    55.0\n",
      "4       3    Alice    80.0\n",
      "5       4    Bobby    40.0\n",
      "6       4    Bobby    80.0\n",
      "7       5     Lisa     NaN\n"
     ]
    }
   ],
   "source": [
    "q = \"\"\"\n",
    "    SELECT c.*, p.ProdID\n",
    "    FROM df_customer AS c\n",
    "    LEFT JOIN\n",
    "    df_product as p\n",
    "    ON c.CustID = p.PurchaseID  \n",
    "    \"\"\"\n",
    "a = ps.sqldf(q)\n",
    "print(a)"
   ]
  },
  {
   "cell_type": "code",
   "execution_count": 9,
   "metadata": {},
   "outputs": [
    {
     "name": "stdout",
     "output_type": "stream",
     "text": [
      "   CustID CustName  ProdID\n",
      "0       1     Jone      65\n",
      "1       3    Alice      35\n",
      "2       3    Alice      55\n",
      "3       3    Alice      80\n",
      "4       4    Bobby      40\n",
      "5       4    Bobby      80\n"
     ]
    }
   ],
   "source": [
    "q = \"\"\"\n",
    "    SELECT c.*, p.ProdID\n",
    "    FROM df_customer AS c\n",
    "    INNER JOIN\n",
    "    df_product as p\n",
    "    ON c.CustID = p.PurchaseID  \n",
    "    \"\"\"\n",
    "a = ps.sqldf(q)\n",
    "print(a)"
   ]
  },
  {
   "cell_type": "code",
   "execution_count": 10,
   "metadata": {},
   "outputs": [],
   "source": [
    "\"\"\"Cross-Join\"\"\"\n",
    "tab1 = df_customer.copy()\n",
    "tab2 = df_product.copy()\n",
    "tab1[\"key\"] = pd.Series(np.ones(df_customer.shape[0]))\n",
    "tab2[\"key\"] = pd.Series(np.ones(df_product.shape[0]))\n",
    "a = tab1.merge(tab2, how=\"inner\", on=\"key\")\n",
    "# print(a)"
   ]
  },
  {
   "cell_type": "code",
   "execution_count": 11,
   "metadata": {},
   "outputs": [],
   "source": [
    "del tab1, tab2"
   ]
  },
  {
   "cell_type": "markdown",
   "metadata": {},
   "source": [
    "### Example : Anti-Join"
   ]
  },
  {
   "cell_type": "code",
   "execution_count": 12,
   "metadata": {},
   "outputs": [
    {
     "name": "stdout",
     "output_type": "stream",
     "text": [
      "   CustID CustName ProdID\n",
      "0       2    David   None\n",
      "1       5     Lisa   None\n"
     ]
    }
   ],
   "source": [
    "\"\"\"Left-Anti Join\"\"\"\n",
    "q = \"\"\"\n",
    "    SELECT \n",
    "    c.*, \n",
    "    p.ProdID\n",
    "    FROM df_customer AS c\n",
    "    LEFT JOIN\n",
    "    df_product as p\n",
    "    ON c.CustID = p.PurchaseID\n",
    "    WHERE p.PurchaseID IS NULL\n",
    "    \"\"\"\n",
    "a = ps.sqldf(q)\n",
    "print(a)"
   ]
  },
  {
   "cell_type": "code",
   "execution_count": 13,
   "metadata": {},
   "outputs": [
    {
     "name": "stdout",
     "output_type": "stream",
     "text": [
      "   CustID CustName  ProdID\n",
      "0      15     None      35\n",
      "1      27     None      80\n"
     ]
    }
   ],
   "source": [
    "\"\"\"Right-Anti Join\"\"\"\n",
    "q = \"\"\"\n",
    "    SELECT \n",
    "    p.PurchaseID as CustID, \n",
    "    c.CustName, p.ProdID\n",
    "    FROM df_product as p \n",
    "    LEFT JOIN\n",
    "    df_customer AS c\n",
    "    ON c.CustID = p.PurchaseID\n",
    "    WHERE c.CustID IS NULL\n",
    "    \"\"\"\n",
    "a = ps.sqldf(q)\n",
    "print(a)"
   ]
  },
  {
   "cell_type": "code",
   "execution_count": 14,
   "metadata": {},
   "outputs": [
    {
     "name": "stdout",
     "output_type": "stream",
     "text": [
      "   CustID CustName  ProdID\n",
      "0       2    David     NaN\n",
      "1       5     Lisa     NaN\n",
      "2      15     None    35.0\n",
      "3      27     None    80.0\n"
     ]
    }
   ],
   "source": [
    "\"\"\"Full-Anti Join\"\"\"\n",
    "q = \"\"\"\n",
    "    SELECT c.*, p.ProdID\n",
    "    FROM df_customer AS c\n",
    "    LEFT JOIN\n",
    "    df_product as p\n",
    "    ON c.CustID = p.PurchaseID\n",
    "    WHERE p.PurchaseID IS NULL\n",
    "    UNION\n",
    "    SELECT p.PurchaseID as CustID, c.CustName, p.ProdID\n",
    "    FROM df_product as p \n",
    "    LEFT JOIN\n",
    "    df_customer AS c\n",
    "    ON c.CustID = p.PurchaseID\n",
    "    WHERE c.CustID IS NULL\n",
    "    \"\"\"\n",
    "a = ps.sqldf(q)\n",
    "print(a)"
   ]
  },
  {
   "cell_type": "code",
   "execution_count": null,
   "metadata": {},
   "outputs": [],
   "source": []
  },
  {
   "cell_type": "markdown",
   "metadata": {},
   "source": [
    "### Example : Self-Join"
   ]
  },
  {
   "cell_type": "code",
   "execution_count": 15,
   "metadata": {},
   "outputs": [],
   "source": [
    "empid     = [1,2,3,4,5,6,7,8,9,10]\n",
    "empname   = [\"Jone\",\"David\",\"Alice\",\"Bobby\",\"Lisa\",\"Anne\",\"Romero\",\"Adam\",\"Nery\",\"Joe\"]\n",
    "empsalary = [4765,8100,5635,3315,6000,7495,6985,3870,5150,6370]\n",
    "managerid = [8,None,8,7,8,10,None,10,10,7]\n",
    "\n",
    "tab = pd.DataFrame({\"EmpID\": empid, \"EmpName\": empname, \"ManagerID\": managerid, \"EmpSalary\": empsalary})"
   ]
  },
  {
   "cell_type": "code",
   "execution_count": 16,
   "metadata": {
    "scrolled": true
   },
   "outputs": [
    {
     "name": "stdout",
     "output_type": "stream",
     "text": [
      "   EmpID EmpName  ManagerID  EmpSalary\n",
      "0      1    Jone        8.0       4765\n",
      "1      2   David        NaN       8100\n",
      "2      3   Alice        8.0       5635\n",
      "3      4   Bobby        7.0       3315\n",
      "4      5    Lisa        8.0       6000\n",
      "5      6    Anne       10.0       7495\n",
      "6      7  Romero        NaN       6985\n",
      "7      8    Adam       10.0       3870\n",
      "8      9    Nery       10.0       5150\n",
      "9     10     Joe        7.0       6370\n"
     ]
    }
   ],
   "source": [
    "print(tab)"
   ]
  },
  {
   "cell_type": "markdown",
   "metadata": {},
   "source": [
    "For Each Manager, Find the Average Salary "
   ]
  },
  {
   "cell_type": "code",
   "execution_count": 17,
   "metadata": {},
   "outputs": [
    {
     "name": "stdout",
     "output_type": "stream",
     "text": [
      "   EmpID EmpName  ManagerID  EmpSalary  AvgSalary\n",
      "0      1    Jone        8.0       4765     5466.0\n",
      "1      2   David        NaN       8100        NaN\n",
      "2      3   Alice        8.0       5635     5466.0\n",
      "3      4   Bobby        7.0       3315     4842.0\n",
      "4      5    Lisa        8.0       6000     5466.0\n",
      "5      6    Anne       10.0       7495     5505.0\n",
      "6      7  Romero        NaN       6985        NaN\n",
      "7      8    Adam       10.0       3870     5505.0\n",
      "8      9    Nery       10.0       5150     5505.0\n",
      "9     10     Joe        7.0       6370     4842.0\n"
     ]
    }
   ],
   "source": [
    "q = \"\"\"\n",
    "    SELECT tab.*, f1.AvgSalary\n",
    "    FROM tab\n",
    "    LEFT JOIN\n",
    "    (SELECT \n",
    "    CAST(ManagerID AS INT) ManagerID, \n",
    "    CAST(avg(EmpSalary) AS INT) as AvgSalary\n",
    "    FROM tab\n",
    "    WHERE ManagerID IS NOT NULL\n",
    "    GROUP BY ManagerID) AS f1\n",
    "    ON CAST(tab.managerID AS INT) = f1.ManagerID \n",
    "    \"\"\"\n",
    "a = ps.sqldf(q)\n",
    "print(a)"
   ]
  },
  {
   "cell_type": "markdown",
   "metadata": {},
   "source": [
    "For Each Manager, Find Employees Who Earn Below Average Salary "
   ]
  },
  {
   "cell_type": "code",
   "execution_count": 18,
   "metadata": {
    "scrolled": true
   },
   "outputs": [
    {
     "name": "stdout",
     "output_type": "stream",
     "text": [
      "   EmpID EmpName  ManagerID  EmpSalary  AvgSalary\n",
      "0      1    Jone        8.0       4765       5466\n",
      "1      4   Bobby        7.0       3315       4842\n",
      "2      8    Adam       10.0       3870       5505\n",
      "3      9    Nery       10.0       5150       5505\n"
     ]
    }
   ],
   "source": [
    "q = \"\"\"\n",
    "    SELECT * FROM (\n",
    "    SELECT tab.*, f1.AvgSalary\n",
    "    FROM tab\n",
    "    LEFT JOIN\n",
    "    (SELECT CAST(ManagerID AS INT) ManagerID, CAST(avg(EmpSalary) AS INT) as AvgSalary\n",
    "    FROM tab\n",
    "    WHERE ManagerID IS NOT NULL\n",
    "    GROUP BY ManagerID) AS f1\n",
    "    ON CAST(tab.managerID AS INT) = f1.ManagerID ) AS f2\n",
    "    WHERE EmpSalary < AvgSalary\n",
    "    \"\"\"\n",
    "a = ps.sqldf(q)\n",
    "print(a)"
   ]
  },
  {
   "cell_type": "markdown",
   "metadata": {},
   "source": [
    "For Each Employee, Find the Corresponsding Manager's Name & Salary "
   ]
  },
  {
   "cell_type": "code",
   "execution_count": 19,
   "metadata": {},
   "outputs": [
    {
     "name": "stdout",
     "output_type": "stream",
     "text": [
      "   EmpID EmpName  ManagerID ManagerName  EmpSalary  ManagerSalary\n",
      "0      1    Jone        8.0        Adam       4765         3870.0\n",
      "1      2   David        NaN        None       8100            NaN\n",
      "2      3   Alice        8.0        Adam       5635         3870.0\n",
      "3      4   Bobby        7.0      Romero       3315         6985.0\n",
      "4      5    Lisa        8.0        Adam       6000         3870.0\n",
      "5      6    Anne       10.0         Joe       7495         6370.0\n",
      "6      7  Romero        NaN        None       6985            NaN\n",
      "7      8    Adam       10.0         Joe       3870         6370.0\n",
      "8      9    Nery       10.0         Joe       5150         6370.0\n",
      "9     10     Joe        7.0      Romero       6370         6985.0\n"
     ]
    }
   ],
   "source": [
    "q = \"\"\"\n",
    "    SELECT \n",
    "    tab.EmpID, tab.EmpName, \n",
    "    tab.ManagerID,f2.ManagerName, \n",
    "    tab.EmpSalary,f2.ManagerSalary\n",
    "    FROM tab \n",
    "    LEFT JOIN\n",
    "    (SELECT \n",
    "    EmpID as ManagerID, \n",
    "    EmpName as ManagerName,\n",
    "    EmpSalary as ManagerSalary\n",
    "    FROM tab\n",
    "    INNER JOIN\n",
    "    (SELECT \n",
    "    DISTINCT CAST(ManagerID as INT) AS tmpID\n",
    "    FROM tab\n",
    "    WHERE ManagerID IS NOT NULL) AS f1\n",
    "    ON tab.EmpID = f1.tmpID) AS f2\n",
    "    ON CAST(tab.ManagerID as INT) = f2.ManagerID\n",
    "    \"\"\"\n",
    "a = ps.sqldf(q)\n",
    "print(a)"
   ]
  },
  {
   "cell_type": "markdown",
   "metadata": {},
   "source": [
    "Find Employees who Earn more than their Managers"
   ]
  },
  {
   "cell_type": "code",
   "execution_count": 20,
   "metadata": {},
   "outputs": [
    {
     "name": "stdout",
     "output_type": "stream",
     "text": [
      "   EmpID EmpName  ManagerID  EmpSalary  ManagerSalary\n",
      "0      1    Jone        8.0       4765           3870\n",
      "1      3   Alice        8.0       5635           3870\n",
      "2      5    Lisa        8.0       6000           3870\n",
      "3      6    Anne       10.0       7495           6370\n"
     ]
    }
   ],
   "source": [
    "\"\"\"Using INNER JOIN\"\"\"\n",
    "q = \"\"\"\n",
    "    SELECT * FROM \n",
    "    (SELECT \n",
    "    tab.*, \n",
    "    f2.ManagerSalary\n",
    "    FROM tab \n",
    "    LEFT JOIN\n",
    "    (SELECT EmpID as ManagerID, EmpSalary as ManagerSalary\n",
    "    FROM tab\n",
    "    INNER JOIN\n",
    "    (SELECT DISTINCT CAST(ManagerID as INT) AS tmpID\n",
    "    FROM tab\n",
    "    WHERE ManagerID IS NOT NULL) AS f1\n",
    "    ON tab.EmpID = f1.tmpID) AS f2\n",
    "    ON CAST(tab.ManagerID as INT) = f2.ManagerID) AS f3\n",
    "    WHERE f3.EmpSalary > f3.ManagerSalary\n",
    "    \"\"\"\n",
    "a = ps.sqldf(q)\n",
    "print(a)"
   ]
  },
  {
   "cell_type": "code",
   "execution_count": 21,
   "metadata": {},
   "outputs": [
    {
     "name": "stdout",
     "output_type": "stream",
     "text": [
      "   EmpID EmpName  ManagerID  EmpSalary  ManagerSalary\n",
      "0      1    Jone        8.0       4765           3870\n",
      "1      3   Alice        8.0       5635           3870\n",
      "2      5    Lisa        8.0       6000           3870\n",
      "3      6    Anne       10.0       7495           6370\n"
     ]
    }
   ],
   "source": [
    "\"\"\"Using IN Operator\"\"\"\n",
    "q = \"\"\"\n",
    "    SELECT * FROM \n",
    "    (SELECT \n",
    "    tab.*, \n",
    "    f1.ManagerSalary\n",
    "    FROM tab \n",
    "    LEFT JOIN\n",
    "    (SELECT EmpID as ManagerID, EmpSalary as ManagerSalary FROM tab\n",
    "    WHERE EmpID IN \n",
    "    (SELECT DISTINCT CAST(ManagerID as INT) FROM tab\n",
    "    WHERE ManagerID IS NOT NULL)) AS f1\n",
    "    ON CAST(tab.ManagerID as INT) = f1.ManagerID) AS f2\n",
    "    WHERE f2.EmpSalary > f2.ManagerSalary\n",
    "    \"\"\"\n",
    "a = ps.sqldf(q)\n",
    "print(a)"
   ]
  },
  {
   "cell_type": "code",
   "execution_count": 22,
   "metadata": {},
   "outputs": [
    {
     "name": "stdout",
     "output_type": "stream",
     "text": [
      "   EmpID EmpName  ManagerID  EmpSalary  manager_salary\n",
      "0      1    Jone        8.0       4765            3870\n",
      "1      3   Alice        8.0       5635            3870\n",
      "2      5    Lisa        8.0       6000            3870\n",
      "3      6    Anne       10.0       7495            6370\n"
     ]
    }
   ],
   "source": [
    "\"\"\"Using CTE\"\"\"\n",
    "q = \"\"\"\n",
    "    WITH \n",
    "    get_distinct_id AS\n",
    "    (SELECT \n",
    "    DISTINCT CAST(ManagerID as INT) AS distinct_id \n",
    "    FROM tab\n",
    "    WHERE ManagerID IS NOT NULL), \n",
    "    get_distinct_id_salary AS\n",
    "    (SELECT \n",
    "    EmpID as manager_id,\n",
    "    EmpName as manager_name,\n",
    "    EmpSalary as manager_salary \n",
    "    FROM tab),\n",
    "    get_manager_salary AS\n",
    "    (SELECT a.manager_id, a.manager_name, a.manager_salary\n",
    "    FROM get_distinct_id_salary a\n",
    "    INNER JOIN get_distinct_id b\n",
    "    ON a.manager_id = b.distinct_id)\n",
    "    SELECT \n",
    "    c.*,\n",
    "    d.manager_salary\n",
    "    FROM tab c\n",
    "    LEFT JOIN get_manager_salary d\n",
    "    ON CAST(c.ManagerID AS INT) = d.manager_id\n",
    "    WHERE c.EmpSalary > d.manager_salary\n",
    "    \"\"\"\n",
    "a = ps.sqldf(q)\n",
    "print(a)"
   ]
  },
  {
   "cell_type": "markdown",
   "metadata": {},
   "source": [
    "### Correlated Sub-Query"
   ]
  },
  {
   "cell_type": "code",
   "execution_count": 23,
   "metadata": {},
   "outputs": [
    {
     "name": "stdout",
     "output_type": "stream",
     "text": [
      "   ManagerID ManagerName  ManagerSalary\n",
      "0          7      Romero           6985\n",
      "1          8        Adam           3870\n",
      "2         10         Joe           6370\n"
     ]
    }
   ],
   "source": [
    "\"\"\"Using Correlated Sub-query, '=' Operator\"\"\"\n",
    "q = \"\"\"\n",
    "    SELECT \n",
    "    o.EmpID as ManagerID, \n",
    "    o.EmpName as ManagerName,\n",
    "    o.EmpSalary as ManagerSalary \n",
    "    FROM tab o\n",
    "    WHERE EmpID = \n",
    "    (SELECT \n",
    "    DISTINCT CAST(ManagerID as INT) AS distinct_id\n",
    "    FROM tab i\n",
    "    WHERE distinct_id = o.EmpID)\n",
    "    \"\"\"\n",
    "a = ps.sqldf(q)\n",
    "print(a)"
   ]
  },
  {
   "cell_type": "code",
   "execution_count": 24,
   "metadata": {},
   "outputs": [
    {
     "name": "stdout",
     "output_type": "stream",
     "text": [
      "   ManagerID ManagerName  ManagerSalary\n",
      "0          7      Romero           6985\n",
      "1          8        Adam           3870\n",
      "2         10         Joe           6370\n"
     ]
    }
   ],
   "source": [
    "\"\"\"Using Correlated Sub-query, 'Exists' Operator\"\"\"\n",
    "q = \"\"\"\n",
    "    SELECT \n",
    "    o.EmpID as ManagerID, \n",
    "    o.EmpName as ManagerName,\n",
    "    o.EmpSalary as ManagerSalary \n",
    "    FROM tab o\n",
    "    WHERE EXISTS\n",
    "    (SELECT \n",
    "    DISTINCT CAST(ManagerID as INT) AS distinct_id\n",
    "    FROM tab i\n",
    "    WHERE distinct_id = o.EmpID)\n",
    "    \"\"\"\n",
    "a = ps.sqldf(q)\n",
    "print(a)"
   ]
  },
  {
   "cell_type": "code",
   "execution_count": 25,
   "metadata": {},
   "outputs": [
    {
     "name": "stdout",
     "output_type": "stream",
     "text": [
      "   EmpID EmpName  ManagerID  EmpSalary\n",
      "0      1    Jone        8.0       4765\n",
      "1      4   Bobby        7.0       3315\n",
      "2      8    Adam       10.0       3870\n",
      "3      9    Nery       10.0       5150\n"
     ]
    }
   ],
   "source": [
    "q = \"\"\"\n",
    "    SELECT \n",
    "    o.EmpID as EmpID, \n",
    "    o.EmpName as EmpName,\n",
    "    o.ManagerID as ManagerID,\n",
    "    o.EmpSalary as EmpSalary \n",
    "    FROM tab o\n",
    "    WHERE EmpSalary < \n",
    "    (SELECT AVG(EmpSalary) FROM tab i \n",
    "    WHERE i.ManagerID IS NOT NULL \n",
    "    AND CAST(i.ManagerID AS INT) = CAST(o.ManagerID AS INT))\n",
    "    \"\"\"\n",
    "a = ps.sqldf(q)\n",
    "print(a)"
   ]
  }
 ],
 "metadata": {
  "kernelspec": {
   "display_name": "Python 3",
   "language": "python",
   "name": "python3"
  },
  "language_info": {
   "codemirror_mode": {
    "name": "ipython",
    "version": 3
   },
   "file_extension": ".py",
   "mimetype": "text/x-python",
   "name": "python",
   "nbconvert_exporter": "python",
   "pygments_lexer": "ipython3",
   "version": "3.9.13"
  }
 },
 "nbformat": 4,
 "nbformat_minor": 4
}
