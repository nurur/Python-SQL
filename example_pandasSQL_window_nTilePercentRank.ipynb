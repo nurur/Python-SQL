{
 "cells": [
  {
   "cell_type": "markdown",
   "metadata": {},
   "source": [
    "# Pandas SQL : Window Function"
   ]
  },
  {
   "cell_type": "markdown",
   "metadata": {},
   "source": [
    "N-Tile \n",
    "\n",
    "Percent_Rank"
   ]
  },
  {
   "cell_type": "code",
   "execution_count": 1,
   "metadata": {},
   "outputs": [],
   "source": [
    "import numpy as np\n",
    "import pandas as pd\n",
    "import pandasql as ps"
   ]
  },
  {
   "cell_type": "markdown",
   "metadata": {},
   "source": [
    "### Data"
   ]
  },
  {
   "cell_type": "code",
   "execution_count": 2,
   "metadata": {},
   "outputs": [],
   "source": [
    "eid  = [x+1 for x in range(15)]\n",
    "name = [\"nurur\",\"tom\",\"peter\",\"bo\",\"binbin\",\"jack\",\"sid\",\"don\",\"rahman\",\"nick\",\n",
    "        \"adam\",\"ross\",\"kyle\",\"sohel\",\"robin\"]\n",
    "manager = [\"xxxx\",\"nurur\",\"nurur\",\"peter\",\"peter\",\"don\",\"don\",\"nurur\",\"yyyy\",\n",
    "           \"ross\",\"ross\",\"ross\",\"zzz\",\"kyle\",\"carole\"]\n",
    "dept = [\"ANALYTICS\",\"ANALYTICS\",\"ANALYTICS\",\"ANALYTICS\",\"ANALYTICS\",\"IT\",\"IT\",\n",
    "        \"IT\",\"IT\",\"SALE\",\"SALE\",\"SALE\",\"HR\",\"HR\",\"MARKETING\"]\n",
    "salary = [41000,29000,33000,21000,21000,33000,29000,24000,26500,51000,51000,43000,19000,13700,39000]\n",
    "\n",
    "df = pd.DataFrame({\"EmpID\": eid, \"EmpName\":name, \"EmpManager\":manager, \"EmpDept\":dept, \"EmpSalary\":salary})"
   ]
  },
  {
   "cell_type": "code",
   "execution_count": 3,
   "metadata": {},
   "outputs": [],
   "source": [
    "# df_id  = pd.DataFrame(data=[x+1 for x in range(15)], columns=['EmpID'] )\n",
    "# df_name= pd.DataFrame(data=[\"nurur\",\"tom\",\"peter\",\"bo\",\"binbin\",\n",
    "#                             \"jack\",\"sid\",\"don\",\"rahman\",\n",
    "#                             \"nick\",\"adam\",\"ross\",\n",
    "#                             \"kyle\",\"sohel\",\n",
    "#                             \"robin\"], columns=['EmpName'])\n",
    "# df_manager = pd.DataFrame(data=[\"xxxx\",\"nurur\",\"nurur\",\"peter\",\"peter\",\n",
    "#                                 \"don\",\"don\",\"nurur\",\"yyyy\",\n",
    "#                                 \"ross\",\"ross\",\"ross\",\n",
    "#                                 \"zzz\",\"kyle\",\n",
    "#                                 \"carole\"], columns=['EmpManager'])"
   ]
  },
  {
   "cell_type": "code",
   "execution_count": 4,
   "metadata": {},
   "outputs": [],
   "source": [
    "# df_dept = pd.DataFrame(data=[\"ANALYTICS\",\"ANALYTICS\",\"ANALYTICS\",\"ANALYTICS\",\"ANALYTICS\",\n",
    "#                              \"IT\",\"IT\",\"IT\",\"IT\",\"SALE\",\"SALE\",\"SALE\",\"HR\",\n",
    "#                              \"HR\",\"MARKETING\"], columns=['EmpDept'])\n",
    "# df_salary = pd.DataFrame(data=[41000,29000,33000,21000,21000,\n",
    "#                              33000,29000,24000,26500,\n",
    "#                              51000,51000,43000,19000,13700,\n",
    "#                              39000], columns=['EmpSalary'])\n",
    "#\n",
    "# df = pd.concat([df_id,df_name,df_manager,df_dept,df_salary], axis=1)"
   ]
  },
  {
   "cell_type": "code",
   "execution_count": 5,
   "metadata": {},
   "outputs": [
    {
     "name": "stdout",
     "output_type": "stream",
     "text": [
      "    EmpID EmpName EmpManager EmpDept  EmpSalary\n",
      "9      10    nick       ross    SALE      51000\n",
      "10     11    adam       ross    SALE      51000\n"
     ]
    }
   ],
   "source": [
    "print( df.sort_values('EmpSalary', ascending=False).head(2) )"
   ]
  },
  {
   "cell_type": "code",
   "execution_count": 6,
   "metadata": {},
   "outputs": [
    {
     "name": "stdout",
     "output_type": "stream",
     "text": [
      "   EmpID EmpName EmpManager EmpDept  EmpSalary\n",
      "0     10    nick       ross    SALE      51000\n",
      "1     11    adam       ross    SALE      51000\n"
     ]
    }
   ],
   "source": [
    "a = ps.sqldf(\"\"\"SELECT * FROM df ORDER BY EmpSalary DESC LIMIT 2\"\"\")\n",
    "print(a)"
   ]
  },
  {
   "cell_type": "markdown",
   "metadata": {},
   "source": [
    "### Example : N-Tile "
   ]
  },
  {
   "cell_type": "markdown",
   "metadata": {},
   "source": [
    "Single Partition of the Entire Dataset"
   ]
  },
  {
   "cell_type": "code",
   "execution_count": 7,
   "metadata": {},
   "outputs": [
    {
     "name": "stdout",
     "output_type": "stream",
     "text": [
      "    EmpID EmpName EmpManager    EmpDept  EmpSalary  Bucket\n",
      "0      10    nick       ross       SALE      51000       1\n",
      "1      11    adam       ross       SALE      51000       1\n",
      "2      12    ross       ross       SALE      43000       1\n",
      "3       1   nurur       xxxx  ANALYTICS      41000       1\n",
      "4      15   robin     carole  MARKETING      39000       2\n",
      "5       3   peter      nurur  ANALYTICS      33000       2\n",
      "6       6    jack        don         IT      33000       2\n",
      "7       2     tom      nurur  ANALYTICS      29000       2\n",
      "8       7     sid        don         IT      29000       3\n",
      "9       9  rahman       yyyy         IT      26500       3\n",
      "10      8     don      nurur         IT      24000       3\n",
      "11      4      bo      peter  ANALYTICS      21000       3\n",
      "12      5  binbin      peter  ANALYTICS      21000       4\n",
      "13     13    kyle        zzz         HR      19000       4\n",
      "14     14   sohel       kyle         HR      13700       4\n"
     ]
    }
   ],
   "source": [
    "\"\"\"Quartile\"\"\"\n",
    "q = \"\"\"\n",
    "    SELECT *, \n",
    "    ntile(4) OVER (ORDER BY EmpSalary DESC) as Bucket \n",
    "    FROM df\n",
    "    \"\"\"\n",
    "a = ps.sqldf(q)\n",
    "print(a)"
   ]
  },
  {
   "cell_type": "markdown",
   "metadata": {},
   "source": [
    "Multiple Partitions of the Dataset"
   ]
  },
  {
   "cell_type": "code",
   "execution_count": 8,
   "metadata": {},
   "outputs": [
    {
     "name": "stdout",
     "output_type": "stream",
     "text": [
      "    EmpID EmpName EmpManager    EmpDept  EmpSalary  Bucket\n",
      "0       1   nurur       xxxx  ANALYTICS      41000       1\n",
      "1       3   peter      nurur  ANALYTICS      33000       1\n",
      "2       2     tom      nurur  ANALYTICS      29000       2\n",
      "3       4      bo      peter  ANALYTICS      21000       3\n",
      "4       5  binbin      peter  ANALYTICS      21000       4\n",
      "5      13    kyle        zzz         HR      19000       1\n",
      "6      14   sohel       kyle         HR      13700       2\n",
      "7       6    jack        don         IT      33000       1\n",
      "8       7     sid        don         IT      29000       2\n",
      "9       9  rahman       yyyy         IT      26500       3\n",
      "10      8     don      nurur         IT      24000       4\n",
      "11     15   robin     carole  MARKETING      39000       1\n",
      "12     10    nick       ross       SALE      51000       1\n",
      "13     11    adam       ross       SALE      51000       2\n",
      "14     12    ross       ross       SALE      43000       3\n"
     ]
    }
   ],
   "source": [
    "\"\"\"Quartile\"\"\"\n",
    "q = \"\"\"\n",
    "    SELECT *, \n",
    "    ntile(4) OVER (PARTITION BY EmpDept ORDER BY EmpSalary DESC) as Bucket \n",
    "    FROM df\n",
    "    \"\"\"\n",
    "a = ps.sqldf(q)\n",
    "print(a)"
   ]
  },
  {
   "cell_type": "markdown",
   "metadata": {},
   "source": [
    "Decile"
   ]
  },
  {
   "cell_type": "code",
   "execution_count": 9,
   "metadata": {},
   "outputs": [
    {
     "name": "stdout",
     "output_type": "stream",
     "text": [
      "    EmpID EmpName EmpManager    EmpDept  EmpSalary  Bucket\n",
      "0       4      bo      peter  ANALYTICS      21000       1\n",
      "1       5  binbin      peter  ANALYTICS      21000       2\n",
      "2       2     tom      nurur  ANALYTICS      29000       3\n",
      "3       3   peter      nurur  ANALYTICS      33000       4\n",
      "4       1   nurur       xxxx  ANALYTICS      41000       5\n",
      "5      14   sohel       kyle         HR      13700       1\n",
      "6      13    kyle        zzz         HR      19000       2\n",
      "7       8     don      nurur         IT      24000       1\n",
      "8       9  rahman       yyyy         IT      26500       2\n",
      "9       7     sid        don         IT      29000       3\n",
      "10      6    jack        don         IT      33000       4\n",
      "11     15   robin     carole  MARKETING      39000       1\n",
      "12     12    ross       ross       SALE      43000       1\n",
      "13     10    nick       ross       SALE      51000       2\n",
      "14     11    adam       ross       SALE      51000       3\n"
     ]
    }
   ],
   "source": [
    "\"\"\"Decile\"\"\"\n",
    "q = \"\"\"\n",
    "    SELECT *, \n",
    "    ntile(10) OVER (PARTITION BY EmpDept ORDER BY EmpSalary) as Bucket \n",
    "    FROM df\n",
    "    \"\"\"\n",
    "a = ps.sqldf(q)\n",
    "print(a)"
   ]
  },
  {
   "cell_type": "markdown",
   "metadata": {},
   "source": [
    "Percentile"
   ]
  },
  {
   "cell_type": "code",
   "execution_count": 10,
   "metadata": {},
   "outputs": [
    {
     "name": "stdout",
     "output_type": "stream",
     "text": [
      "    EmpID EmpName EmpManager    EmpDept  EmpSalary  Bucket\n",
      "0       4      bo      peter  ANALYTICS      21000       1\n",
      "1       5  binbin      peter  ANALYTICS      21000       2\n",
      "2       2     tom      nurur  ANALYTICS      29000       3\n",
      "3       3   peter      nurur  ANALYTICS      33000       4\n",
      "4       1   nurur       xxxx  ANALYTICS      41000       5\n",
      "5      14   sohel       kyle         HR      13700       1\n",
      "6      13    kyle        zzz         HR      19000       2\n",
      "7       8     don      nurur         IT      24000       1\n",
      "8       9  rahman       yyyy         IT      26500       2\n",
      "9       7     sid        don         IT      29000       3\n",
      "10      6    jack        don         IT      33000       4\n",
      "11     15   robin     carole  MARKETING      39000       1\n",
      "12     12    ross       ross       SALE      43000       1\n",
      "13     10    nick       ross       SALE      51000       2\n",
      "14     11    adam       ross       SALE      51000       3\n"
     ]
    }
   ],
   "source": [
    "\"\"\"Percentile\"\"\"\n",
    "q = \"\"\"\n",
    "    SELECT *, \n",
    "    ntile(100) OVER (PARTITION BY EmpDept ORDER BY EmpSalary) as Bucket \n",
    "    FROM df\n",
    "    \"\"\"\n",
    "a = ps.sqldf(q)\n",
    "print(a)"
   ]
  },
  {
   "cell_type": "code",
   "execution_count": 11,
   "metadata": {},
   "outputs": [
    {
     "name": "stdout",
     "output_type": "stream",
     "text": [
      "   EmpID EmpName EmpManager    EmpDept  EmpSalary  Bucket\n",
      "0      2     tom      nurur  ANALYTICS      29000       2\n",
      "1     14   sohel       kyle         HR      13700       2\n",
      "2      7     sid        don         IT      29000       2\n",
      "3     11    adam       ross       SALE      51000       2\n"
     ]
    }
   ],
   "source": [
    "q = \"\"\"\n",
    "    SELECT * FROM\n",
    "    (SELECT *, \n",
    "    ntile(4) OVER (PARTITION BY EmpDept ORDER BY EmpSalary DESC) as Bucket \n",
    "    FROM df) AS f\n",
    "    WHERE Bucket=2\n",
    "    \"\"\"\n",
    "a = ps.sqldf(q)\n",
    "print(a)"
   ]
  },
  {
   "cell_type": "markdown",
   "metadata": {},
   "source": [
    "### Example : Percent_Rank "
   ]
  },
  {
   "cell_type": "code",
   "execution_count": 12,
   "metadata": {},
   "outputs": [
    {
     "name": "stdout",
     "output_type": "stream",
     "text": [
      "    EmpID EmpName EmpManager    EmpDept  EmpSalary PercentRank\n",
      "0      14   sohel       kyle         HR      13700        0.00\n",
      "1      13    kyle        zzz         HR      19000        0.07\n",
      "2       4      bo      peter  ANALYTICS      21000        0.14\n",
      "3       5  binbin      peter  ANALYTICS      21000        0.14\n",
      "4       8     don      nurur         IT      24000        0.29\n",
      "5       9  rahman       yyyy         IT      26500        0.36\n",
      "6       2     tom      nurur  ANALYTICS      29000        0.43\n",
      "7       7     sid        don         IT      29000        0.43\n",
      "8       3   peter      nurur  ANALYTICS      33000        0.57\n",
      "9       6    jack        don         IT      33000        0.57\n",
      "10     15   robin     carole  MARKETING      39000        0.71\n",
      "11      1   nurur       xxxx  ANALYTICS      41000        0.79\n",
      "12     12    ross       ross       SALE      43000        0.86\n",
      "13     10    nick       ross       SALE      51000        0.93\n",
      "14     11    adam       ross       SALE      51000        0.93\n"
     ]
    }
   ],
   "source": [
    "q = \"\"\"\n",
    "    SELECT * FROM \n",
    "    (SELECT *, \n",
    "    printf('%0.2f', percent_rank() OVER (ORDER BY EmpSalary)) as PercentRank\n",
    "    FROM df) as f \n",
    "    \"\"\"\n",
    "a = ps.sqldf(q)\n",
    "print(a)"
   ]
  },
  {
   "cell_type": "code",
   "execution_count": 13,
   "metadata": {},
   "outputs": [
    {
     "name": "stdout",
     "output_type": "stream",
     "text": [
      "    EmpID EmpName EmpManager    EmpDept  EmpSalary PercentRank\n",
      "0       4      bo      peter  ANALYTICS      21000        0.00\n",
      "1       5  binbin      peter  ANALYTICS      21000        0.00\n",
      "2       2     tom      nurur  ANALYTICS      29000        0.50\n",
      "3       3   peter      nurur  ANALYTICS      33000        0.75\n",
      "4       1   nurur       xxxx  ANALYTICS      41000        1.00\n",
      "5      14   sohel       kyle         HR      13700        0.00\n",
      "6      13    kyle        zzz         HR      19000        1.00\n",
      "7       8     don      nurur         IT      24000        0.00\n",
      "8       9  rahman       yyyy         IT      26500        0.33\n",
      "9       7     sid        don         IT      29000        0.67\n",
      "10      6    jack        don         IT      33000        1.00\n",
      "11     15   robin     carole  MARKETING      39000        0.00\n",
      "12     12    ross       ross       SALE      43000        0.00\n",
      "13     10    nick       ross       SALE      51000        0.50\n",
      "14     11    adam       ross       SALE      51000        0.50\n"
     ]
    }
   ],
   "source": [
    "q = \"\"\"\n",
    "    SELECT * FROM \n",
    "    (SELECT *, \n",
    "    printf('%0.2f', percent_rank() OVER (PARTITION BY EmpDept ORDER BY EmpSalary)) as PercentRank\n",
    "    FROM df) as f \n",
    "    \"\"\"\n",
    "a = ps.sqldf(q)\n",
    "print(a)"
   ]
  }
 ],
 "metadata": {
  "kernelspec": {
   "display_name": "Python 3",
   "language": "python",
   "name": "python3"
  },
  "language_info": {
   "codemirror_mode": {
    "name": "ipython",
    "version": 3
   },
   "file_extension": ".py",
   "mimetype": "text/x-python",
   "name": "python",
   "nbconvert_exporter": "python",
   "pygments_lexer": "ipython3",
   "version": "3.9.0"
  }
 },
 "nbformat": 4,
 "nbformat_minor": 4
}
